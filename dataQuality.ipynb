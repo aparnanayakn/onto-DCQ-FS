{
 "metadata": {
  "language_info": {
   "codemirror_mode": {
    "name": "ipython",
    "version": 3
   },
   "file_extension": ".py",
   "mimetype": "text/x-python",
   "name": "python",
   "nbconvert_exporter": "python",
   "pygments_lexer": "ipython3",
   "version": "3.6.9-final"
  },
  "orig_nbformat": 2,
  "kernelspec": {
   "name": ".deeplearningclass",
   "display_name": ".deeplearningClass",
   "language": "python"
  }
 },
 "nbformat": 4,
 "nbformat_minor": 2,
 "cells": [
  {
   "cell_type": "code",
   "execution_count": 13,
   "metadata": {},
   "outputs": [],
   "source": [
    "import csv\n",
    "import json\n",
    "import os\n",
    "import math\n",
    "import pandas as pd\n",
    "import numpy as np"
   ]
  },
  {
   "cell_type": "code",
   "execution_count": 14,
   "metadata": {},
   "outputs": [],
   "source": [
    "def readDataFile(filePath):\n",
    "    try:\n",
    "        dataset = pd.read_csv(filePath)\n",
    "        print(filePath)\n",
    "    except:\n",
    "        print(\"Could not read file\",filePath)"
   ]
  },
  {
   "cell_type": "code",
   "execution_count": 15,
   "metadata": {},
   "outputs": [
    {
     "output_type": "stream",
     "name": "stdout",
     "text": [
      "/home/d19125691/Documents/Experiments/ontologyDCQ/onto-DCQ-FS/datasets/Lung cancer/lung-cancer.data\n/home/d19125691/Documents/Experiments/ontologyDCQ/onto-DCQ-FS/datasets/adult/adult.data\n/home/d19125691/Documents/Experiments/ontologyDCQ/onto-DCQ-FS/datasets/iris/iris.data\n/home/d19125691/Documents/Experiments/ontologyDCQ/onto-DCQ-FS/datasets/glass/glass.data\n/home/d19125691/Documents/Experiments/ontologyDCQ/onto-DCQ-FS/datasets/Pittsburgh Bridges/bridges.data\n/home/d19125691/Documents/Experiments/ontologyDCQ/onto-DCQ-FS/datasets/trains/trains-transformed.data\n/home/d19125691/Documents/Experiments/ontologyDCQ/onto-DCQ-FS/datasets/arrhythmia/arrhythmia.data\n/home/d19125691/Documents/Experiments/ontologyDCQ/onto-DCQ-FS/datasets/dermatology/dermatology.data\n/home/d19125691/Documents/Experiments/ontologyDCQ/onto-DCQ-FS/datasets/ballons/yellow-small+adult-stretch.data\n"
     ]
    }
   ],
   "source": [
    "listofDataFiles={}\n",
    "for path, subdirs, files in os.walk(os.getcwd()+'/datasets'):\n",
    "    for name in files:\n",
    "        if name.endswith('.data'):\n",
    "            listofDataFiles[name]=os.path.join(path, name)\n",
    "\n",
    "for key in listofDataFiles:\n",
    "    readDataFile(listofDataFiles[key])"
   ]
  },
  {
   "cell_type": "code",
   "execution_count": 16,
   "metadata": {},
   "outputs": [],
   "source": [
    "def countUniqueLabels(filePath):\n",
    "    try:\n",
    "        dataset = pd.read_csv(filePath)\n",
    "        n = dataset.iloc[:, -1].nunique(dropna=False)\n",
    "        return n\n",
    "    except:\n",
    "        print(\"Can not read unique items for\", filePath)"
   ]
  },
  {
   "cell_type": "code",
   "execution_count": 17,
   "metadata": {},
   "outputs": [
    {
     "output_type": "error",
     "ename": "SyntaxError",
     "evalue": "invalid syntax (<ipython-input-17-079688043235>, line 1)",
     "traceback": [
      "\u001b[0;36m  File \u001b[0;32m\"<ipython-input-17-079688043235>\"\u001b[0;36m, line \u001b[0;32m1\u001b[0m\n\u001b[0;31m    def overlappedDatapoints(filePath)\u001b[0m\n\u001b[0m                                      ^\u001b[0m\n\u001b[0;31mSyntaxError\u001b[0m\u001b[0;31m:\u001b[0m invalid syntax\n"
     ]
    }
   ],
   "source": [
    "def overlappedDatapoints(filePath)\n",
    "    uniqueClasses = countUniqueLabels(filePath)\n",
    "    "
   ]
  },
  {
   "cell_type": "code",
   "execution_count": null,
   "metadata": {},
   "outputs": [],
   "source": []
  },
  {
   "cell_type": "code",
   "execution_count": null,
   "metadata": {},
   "outputs": [],
   "source": [
    "corrDict = {}\n",
    "dataCharacteristics = {}\n",
    "for eachFile in listofDataFiles:\n",
    "    uniqueClasses = countUniqueLabels(eachFile)\n",
    "    \n",
    "   "
   ]
  },
  {
   "cell_type": "code",
   "execution_count": 4,
   "metadata": {},
   "outputs": [
    {
     "output_type": "display_data",
     "data": {
      "text/plain": "<Figure size 432x288 with 1 Axes>",
      "image/svg+xml": "<?xml version=\"1.0\" encoding=\"utf-8\" standalone=\"no\"?>\n<!DOCTYPE svg PUBLIC \"-//W3C//DTD SVG 1.1//EN\"\n  \"http://www.w3.org/Graphics/SVG/1.1/DTD/svg11.dtd\">\n<!-- Created with matplotlib (https://matplotlib.org/) -->\n<svg height=\"248.518125pt\" version=\"1.1\" viewBox=\"0 0 370.942187 248.518125\" width=\"370.942187pt\" xmlns=\"http://www.w3.org/2000/svg\" xmlns:xlink=\"http://www.w3.org/1999/xlink\">\n <defs>\n  <style type=\"text/css\">\n*{stroke-linecap:butt;stroke-linejoin:round;}\n  </style>\n </defs>\n <g id=\"figure_1\">\n  <g id=\"patch_1\">\n   <path d=\"M 0 248.518125 \nL 370.942187 248.518125 \nL 370.942187 0 \nL 0 0 \nz\n\" style=\"fill:none;\"/>\n  </g>\n  <g id=\"axes_1\">\n   <g id=\"patch_2\">\n    <path d=\"M 28.942188 224.64 \nL 363.742188 224.64 \nL 363.742188 7.2 \nL 28.942188 7.2 \nz\n\" style=\"fill:#ffffff;\"/>\n   </g>\n   <g id=\"PathCollection_1\">\n    <defs>\n     <path d=\"M 0 3 \nC 0.795609 3 1.55874 2.683901 2.12132 2.12132 \nC 2.683901 1.55874 3 0.795609 3 0 \nC 3 -0.795609 2.683901 -1.55874 2.12132 -2.12132 \nC 1.55874 -2.683901 0.795609 -3 0 -3 \nC -0.795609 -3 -1.55874 -2.683901 -2.12132 -2.12132 \nC -2.683901 -1.55874 -3 -0.795609 -3 0 \nC -3 0.795609 -2.683901 1.55874 -2.12132 2.12132 \nC -1.55874 2.683901 -0.795609 3 0 3 \nz\n\" id=\"mbae2c928cb\" style=\"stroke:#1f77b4;\"/>\n    </defs>\n    <g clip-path=\"url(#p80e68be416)\">\n     <use style=\"fill:#1f77b4;stroke:#1f77b4;\" x=\"177.280835\" xlink:href=\"#mbae2c928cb\" y=\"152.768843\"/>\n     <use style=\"fill:#1f77b4;stroke:#1f77b4;\" x=\"158.824485\" xlink:href=\"#mbae2c928cb\" y=\"84.7915\"/>\n     <use style=\"fill:#1f77b4;stroke:#1f77b4;\" x=\"44.565542\" xlink:href=\"#mbae2c928cb\" y=\"132.667337\"/>\n     <use style=\"fill:#1f77b4;stroke:#1f77b4;\" x=\"222.842421\" xlink:href=\"#mbae2c928cb\" y=\"181.28023\"/>\n     <use style=\"fill:#1f77b4;stroke:#1f77b4;\" x=\"172.979909\" xlink:href=\"#mbae2c928cb\" y=\"167.61434\"/>\n     <use style=\"fill:#1f77b4;stroke:#1f77b4;\" x=\"134.503202\" xlink:href=\"#mbae2c928cb\" y=\"69.288435\"/>\n     <use style=\"fill:#1f77b4;stroke:#1f77b4;\" x=\"131.718484\" xlink:href=\"#mbae2c928cb\" y=\"136.422743\"/>\n     <use style=\"fill:#1f77b4;stroke:#1f77b4;\" x=\"197.88426\" xlink:href=\"#mbae2c928cb\" y=\"103.225488\"/>\n    </g>\n   </g>\n   <g id=\"PathCollection_2\">\n    <defs>\n     <path d=\"M 0 3 \nC 0.795609 3 1.55874 2.683901 2.12132 2.12132 \nC 2.683901 1.55874 3 0.795609 3 0 \nC 3 -0.795609 2.683901 -1.55874 2.12132 -2.12132 \nC 1.55874 -2.683901 0.795609 -3 0 -3 \nC -0.795609 -3 -1.55874 -2.683901 -2.12132 -2.12132 \nC -2.683901 -1.55874 -3 -0.795609 -3 0 \nC -3 0.795609 -2.683901 1.55874 -2.12132 2.12132 \nC -1.55874 2.683901 -0.795609 3 0 3 \nz\n\" id=\"m87c306595f\" style=\"stroke:#ff7f0e;\"/>\n    </defs>\n    <g clip-path=\"url(#p80e68be416)\">\n     <use style=\"fill:#ff7f0e;stroke:#ff7f0e;\" x=\"245.955891\" xlink:href=\"#m87c306595f\" y=\"106.132393\"/>\n     <use style=\"fill:#ff7f0e;stroke:#ff7f0e;\" x=\"212.22779\" xlink:href=\"#m87c306595f\" y=\"150.908265\"/>\n     <use style=\"fill:#ff7f0e;stroke:#ff7f0e;\" x=\"221.678057\" xlink:href=\"#m87c306595f\" y=\"171.201978\"/>\n     <use style=\"fill:#ff7f0e;stroke:#ff7f0e;\" x=\"292.913573\" xlink:href=\"#m87c306595f\" y=\"164.507371\"/>\n     <use style=\"fill:#ff7f0e;stroke:#ff7f0e;\" x=\"94.871731\" xlink:href=\"#m87c306595f\" y=\"78.336017\"/>\n     <use style=\"fill:#ff7f0e;stroke:#ff7f0e;\" x=\"198.127108\" xlink:href=\"#m87c306595f\" y=\"105.835469\"/>\n     <use style=\"fill:#ff7f0e;stroke:#ff7f0e;\" x=\"181.334197\" xlink:href=\"#m87c306595f\" y=\"77.773847\"/>\n     <use style=\"fill:#ff7f0e;stroke:#ff7f0e;\" x=\"251.729889\" xlink:href=\"#m87c306595f\" y=\"213.041553\"/>\n     <use style=\"fill:#ff7f0e;stroke:#ff7f0e;\" x=\"198.367868\" xlink:href=\"#m87c306595f\" y=\"106.699662\"/>\n     <use style=\"fill:#ff7f0e;stroke:#ff7f0e;\" x=\"163.30086\" xlink:href=\"#m87c306595f\" y=\"136.610622\"/>\n     <use style=\"fill:#ff7f0e;stroke:#ff7f0e;\" x=\"164.88016\" xlink:href=\"#m87c306595f\" y=\"188.015619\"/>\n     <use style=\"fill:#ff7f0e;stroke:#ff7f0e;\" x=\"212.744722\" xlink:href=\"#m87c306595f\" y=\"112.506242\"/>\n     <use style=\"fill:#ff7f0e;stroke:#ff7f0e;\" x=\"199.946164\" xlink:href=\"#m87c306595f\" y=\"96.271334\"/>\n     <use style=\"fill:#ff7f0e;stroke:#ff7f0e;\" x=\"163.600232\" xlink:href=\"#m87c306595f\" y=\"104.407471\"/>\n     <use style=\"fill:#ff7f0e;stroke:#ff7f0e;\" x=\"210.909136\" xlink:href=\"#m87c306595f\" y=\"100.800222\"/>\n     <use style=\"fill:#ff7f0e;stroke:#ff7f0e;\" x=\"162.230012\" xlink:href=\"#m87c306595f\" y=\"104.007875\"/>\n     <use style=\"fill:#ff7f0e;stroke:#ff7f0e;\" x=\"213.580781\" xlink:href=\"#m87c306595f\" y=\"129.994418\"/>\n     <use style=\"fill:#ff7f0e;stroke:#ff7f0e;\" x=\"167.396389\" xlink:href=\"#m87c306595f\" y=\"148.361439\"/>\n     <use style=\"fill:#ff7f0e;stroke:#ff7f0e;\" x=\"241.411199\" xlink:href=\"#m87c306595f\" y=\"124.887054\"/>\n     <use style=\"fill:#ff7f0e;stroke:#ff7f0e;\" x=\"149.950349\" xlink:href=\"#m87c306595f\" y=\"149.659611\"/>\n     <use style=\"fill:#ff7f0e;stroke:#ff7f0e;\" x=\"197.094604\" xlink:href=\"#m87c306595f\" y=\"110.941939\"/>\n    </g>\n   </g>\n   <g id=\"PathCollection_3\">\n    <defs>\n     <path d=\"M 0 3 \nC 0.795609 3 1.55874 2.683901 2.12132 2.12132 \nC 2.683901 1.55874 3 0.795609 3 0 \nC 3 -0.795609 2.683901 -1.55874 2.12132 -2.12132 \nC 1.55874 -2.683901 0.795609 -3 0 -3 \nC -0.795609 -3 -1.55874 -2.683901 -2.12132 -2.12132 \nC -2.683901 -1.55874 -3 -0.795609 -3 0 \nC -3 0.795609 -2.683901 1.55874 -2.12132 2.12132 \nC -1.55874 2.683901 -0.795609 3 0 3 \nz\n\" id=\"mbae7c9ec5b\" style=\"stroke:#2ca02c;\"/>\n    </defs>\n    <g clip-path=\"url(#p80e68be416)\">\n     <use style=\"fill:#2ca02c;stroke:#2ca02c;\" x=\"225.423255\" xlink:href=\"#mbae7c9ec5b\" y=\"139.08162\"/>\n     <use style=\"fill:#2ca02c;stroke:#2ca02c;\" x=\"219.94047\" xlink:href=\"#mbae7c9ec5b\" y=\"85.83397\"/>\n     <use style=\"fill:#2ca02c;stroke:#2ca02c;\" x=\"163.30288\" xlink:href=\"#mbae7c9ec5b\" y=\"109.686078\"/>\n     <use style=\"fill:#2ca02c;stroke:#2ca02c;\" x=\"186.729703\" xlink:href=\"#mbae7c9ec5b\" y=\"70.316996\"/>\n     <use style=\"fill:#2ca02c;stroke:#2ca02c;\" x=\"245.957863\" xlink:href=\"#mbae7c9ec5b\" y=\"63.55479\"/>\n     <use style=\"fill:#2ca02c;stroke:#2ca02c;\" x=\"186.090462\" xlink:href=\"#mbae7c9ec5b\" y=\"171.09842\"/>\n     <use style=\"fill:#2ca02c;stroke:#2ca02c;\" x=\"192.668726\" xlink:href=\"#mbae7c9ec5b\" y=\"91.247127\"/>\n     <use style=\"fill:#2ca02c;stroke:#2ca02c;\" x=\"153.47594\" xlink:href=\"#mbae7c9ec5b\" y=\"55.650331\"/>\n     <use style=\"fill:#2ca02c;stroke:#2ca02c;\" x=\"243.052397\" xlink:href=\"#mbae7c9ec5b\" y=\"68.27893\"/>\n     <use style=\"fill:#2ca02c;stroke:#2ca02c;\" x=\"229.776234\" xlink:href=\"#mbae7c9ec5b\" y=\"77.490037\"/>\n    </g>\n   </g>\n   <g id=\"PathCollection_4\">\n    <defs>\n     <path d=\"M 0 3 \nC 0.795609 3 1.55874 2.683901 2.12132 2.12132 \nC 2.683901 1.55874 3 0.795609 3 0 \nC 3 -0.795609 2.683901 -1.55874 2.12132 -2.12132 \nC 1.55874 -2.683901 0.795609 -3 0 -3 \nC -0.795609 -3 -1.55874 -2.683901 -2.12132 -2.12132 \nC -2.683901 -1.55874 -3 -0.795609 -3 0 \nC -3 0.795609 -2.683901 1.55874 -2.12132 2.12132 \nC -1.55874 2.683901 -0.795609 3 0 3 \nz\n\" id=\"meb41c4bebe\" style=\"stroke:#d62728;\"/>\n    </defs>\n    <g clip-path=\"url(#p80e68be416)\">\n     <use style=\"fill:#d62728;stroke:#d62728;\" x=\"171.401292\" xlink:href=\"#meb41c4bebe\" y=\"31.64517\"/>\n     <use style=\"fill:#d62728;stroke:#d62728;\" x=\"225.273702\" xlink:href=\"#meb41c4bebe\" y=\"76.884498\"/>\n     <use style=\"fill:#d62728;stroke:#d62728;\" x=\"229.770946\" xlink:href=\"#meb41c4bebe\" y=\"85.841621\"/>\n     <use style=\"fill:#d62728;stroke:#d62728;\" x=\"174.68561\" xlink:href=\"#meb41c4bebe\" y=\"42.420615\"/>\n     <use style=\"fill:#d62728;stroke:#d62728;\" x=\"192.219167\" xlink:href=\"#meb41c4bebe\" y=\"88.357296\"/>\n     <use style=\"fill:#d62728;stroke:#d62728;\" x=\"234.784003\" xlink:href=\"#meb41c4bebe\" y=\"47.378877\"/>\n     <use style=\"fill:#d62728;stroke:#d62728;\" x=\"204.323557\" xlink:href=\"#meb41c4bebe\" y=\"71.287229\"/>\n     <use style=\"fill:#d62728;stroke:#d62728;\" x=\"217.024032\" xlink:href=\"#meb41c4bebe\" y=\"101.73919\"/>\n     <use style=\"fill:#d62728;stroke:#d62728;\" x=\"318.577865\" xlink:href=\"#meb41c4bebe\" y=\"64.395735\"/>\n     <use style=\"fill:#d62728;stroke:#d62728;\" x=\"233.515067\" xlink:href=\"#meb41c4bebe\" y=\"110.235235\"/>\n     <use style=\"fill:#d62728;stroke:#d62728;\" x=\"119.651517\" xlink:href=\"#meb41c4bebe\" y=\"94.97198\"/>\n     <use style=\"fill:#d62728;stroke:#d62728;\" x=\"267.856271\" xlink:href=\"#meb41c4bebe\" y=\"93.793727\"/>\n     <use style=\"fill:#d62728;stroke:#d62728;\" x=\"157.109953\" xlink:href=\"#meb41c4bebe\" y=\"77.33893\"/>\n     <use style=\"fill:#d62728;stroke:#d62728;\" x=\"240.664421\" xlink:href=\"#meb41c4bebe\" y=\"124.247585\"/>\n     <use style=\"fill:#d62728;stroke:#d62728;\" x=\"210.847601\" xlink:href=\"#meb41c4bebe\" y=\"102.843503\"/>\n    </g>\n   </g>\n   <g id=\"PathCollection_5\">\n    <defs>\n     <path d=\"M 0 3 \nC 0.795609 3 1.55874 2.683901 2.12132 2.12132 \nC 2.683901 1.55874 3 0.795609 3 0 \nC 3 -0.795609 2.683901 -1.55874 2.12132 -2.12132 \nC 1.55874 -2.683901 0.795609 -3 0 -3 \nC -0.795609 -3 -1.55874 -2.683901 -2.12132 -2.12132 \nC -2.683901 -1.55874 -3 -0.795609 -3 0 \nC -3 0.795609 -2.683901 1.55874 -2.12132 2.12132 \nC -1.55874 2.683901 -0.795609 3 0 3 \nz\n\" id=\"mb77da76124\" style=\"stroke:#9467bd;\"/>\n    </defs>\n    <g clip-path=\"url(#p80e68be416)\">\n     <use style=\"fill:#9467bd;stroke:#9467bd;\" x=\"165.133803\" xlink:href=\"#mb77da76124\" y=\"45.616065\"/>\n     <use style=\"fill:#9467bd;stroke:#9467bd;\" x=\"196.808554\" xlink:href=\"#mb77da76124\" y=\"97.887872\"/>\n     <use style=\"fill:#9467bd;stroke:#9467bd;\" x=\"202.971241\" xlink:href=\"#mb77da76124\" y=\"60.511539\"/>\n     <use style=\"fill:#9467bd;stroke:#9467bd;\" x=\"175.243227\" xlink:href=\"#mb77da76124\" y=\"68.766336\"/>\n     <use style=\"fill:#9467bd;stroke:#9467bd;\" x=\"223.305281\" xlink:href=\"#mb77da76124\" y=\"68.071637\"/>\n     <use style=\"fill:#9467bd;stroke:#9467bd;\" x=\"218.415497\" xlink:href=\"#mb77da76124\" y=\"92.652502\"/>\n     <use style=\"fill:#9467bd;stroke:#9467bd;\" x=\"258.553418\" xlink:href=\"#mb77da76124\" y=\"66.682912\"/>\n     <use style=\"fill:#9467bd;stroke:#9467bd;\" x=\"240.763549\" xlink:href=\"#mb77da76124\" y=\"118.72629\"/>\n     <use style=\"fill:#9467bd;stroke:#9467bd;\" x=\"254.359842\" xlink:href=\"#mb77da76124\" y=\"94.486345\"/>\n     <use style=\"fill:#9467bd;stroke:#9467bd;\" x=\"216.880042\" xlink:href=\"#mb77da76124\" y=\"82.398728\"/>\n     <use style=\"fill:#9467bd;stroke:#9467bd;\" x=\"203.132961\" xlink:href=\"#mb77da76124\" y=\"106.373866\"/>\n     <use style=\"fill:#9467bd;stroke:#9467bd;\" x=\"152.139613\" xlink:href=\"#mb77da76124\" y=\"43.745891\"/>\n     <use style=\"fill:#9467bd;stroke:#9467bd;\" x=\"205.207185\" xlink:href=\"#mb77da76124\" y=\"81.399597\"/>\n    </g>\n   </g>\n   <g id=\"PathCollection_6\">\n    <defs>\n     <path d=\"M 0 3 \nC 0.795609 3 1.55874 2.683901 2.12132 2.12132 \nC 2.683901 1.55874 3 0.795609 3 0 \nC 3 -0.795609 2.683901 -1.55874 2.12132 -2.12132 \nC 1.55874 -2.683901 0.795609 -3 0 -3 \nC -0.795609 -3 -1.55874 -2.683901 -2.12132 -2.12132 \nC -2.683901 -1.55874 -3 -0.795609 -3 0 \nC -3 0.795609 -2.683901 1.55874 -2.12132 2.12132 \nC -1.55874 2.683901 -0.795609 3 0 3 \nz\n\" id=\"m8e6d0dff83\" style=\"stroke:#8c564b;\"/>\n    </defs>\n    <g clip-path=\"url(#p80e68be416)\">\n     <use style=\"fill:#8c564b;stroke:#8c564b;\" x=\"255.251653\" xlink:href=\"#m8e6d0dff83\" y=\"142.287534\"/>\n     <use style=\"fill:#8c564b;stroke:#8c564b;\" x=\"269.910601\" xlink:href=\"#m8e6d0dff83\" y=\"119.42906\"/>\n     <use style=\"fill:#8c564b;stroke:#8c564b;\" x=\"282.249324\" xlink:href=\"#m8e6d0dff83\" y=\"100.592048\"/>\n     <use style=\"fill:#8c564b;stroke:#8c564b;\" x=\"206.300387\" xlink:href=\"#m8e6d0dff83\" y=\"79.724559\"/>\n     <use style=\"fill:#8c564b;stroke:#8c564b;\" x=\"318.438406\" xlink:href=\"#m8e6d0dff83\" y=\"120.987017\"/>\n     <use style=\"fill:#8c564b;stroke:#8c564b;\" x=\"249.907085\" xlink:href=\"#m8e6d0dff83\" y=\"73.118901\"/>\n     <use style=\"fill:#8c564b;stroke:#8c564b;\" x=\"242.63429\" xlink:href=\"#m8e6d0dff83\" y=\"66.255827\"/>\n     <use style=\"fill:#8c564b;stroke:#8c564b;\" x=\"274.754166\" xlink:href=\"#m8e6d0dff83\" y=\"86.072745\"/>\n     <use style=\"fill:#8c564b;stroke:#8c564b;\" x=\"264.188853\" xlink:href=\"#m8e6d0dff83\" y=\"19.899799\"/>\n     <use style=\"fill:#8c564b;stroke:#8c564b;\" x=\"254.855422\" xlink:href=\"#m8e6d0dff83\" y=\"82.002395\"/>\n     <use style=\"fill:#8c564b;stroke:#8c564b;\" x=\"246.019026\" xlink:href=\"#m8e6d0dff83\" y=\"106.738823\"/>\n     <use style=\"fill:#8c564b;stroke:#8c564b;\" x=\"264.206978\" xlink:href=\"#m8e6d0dff83\" y=\"77.969206\"/>\n     <use style=\"fill:#8c564b;stroke:#8c564b;\" x=\"302.906086\" xlink:href=\"#m8e6d0dff83\" y=\"127.091448\"/>\n     <use style=\"fill:#8c564b;stroke:#8c564b;\" x=\"224.099164\" xlink:href=\"#m8e6d0dff83\" y=\"63.209005\"/>\n     <use style=\"fill:#8c564b;stroke:#8c564b;\" x=\"228.037111\" xlink:href=\"#m8e6d0dff83\" y=\"51.483835\"/>\n     <use style=\"fill:#8c564b;stroke:#8c564b;\" x=\"334.996441\" xlink:href=\"#m8e6d0dff83\" y=\"71.176429\"/>\n     <use style=\"fill:#8c564b;stroke:#8c564b;\" x=\"163.841465\" xlink:href=\"#m8e6d0dff83\" y=\"44.348043\"/>\n     <use style=\"fill:#8c564b;stroke:#8c564b;\" x=\"237.097662\" xlink:href=\"#m8e6d0dff83\" y=\"121.102522\"/>\n    </g>\n   </g>\n   <g id=\"PathCollection_7\">\n    <defs>\n     <path d=\"M 0 3 \nC 0.795609 3 1.55874 2.683901 2.12132 2.12132 \nC 2.683901 1.55874 3 0.795609 3 0 \nC 3 -0.795609 2.683901 -1.55874 2.12132 -2.12132 \nC 1.55874 -2.683901 0.795609 -3 0 -3 \nC -0.795609 -3 -1.55874 -2.683901 -2.12132 -2.12132 \nC -2.683901 -1.55874 -3 -0.795609 -3 0 \nC -3 0.795609 -2.683901 1.55874 -2.12132 2.12132 \nC -1.55874 2.683901 -0.795609 3 0 3 \nz\n\" id=\"m06b85c5642\" style=\"stroke:#e377c2;\"/>\n    </defs>\n    <g clip-path=\"url(#p80e68be416)\">\n     <use style=\"fill:#e377c2;stroke:#e377c2;\" x=\"187.729492\" xlink:href=\"#m06b85c5642\" y=\"131.099987\"/>\n     <use style=\"fill:#e377c2;stroke:#e377c2;\" x=\"211.882561\" xlink:href=\"#m06b85c5642\" y=\"72.975759\"/>\n     <use style=\"fill:#e377c2;stroke:#e377c2;\" x=\"153.656194\" xlink:href=\"#m06b85c5642\" y=\"161.141932\"/>\n     <use style=\"fill:#e377c2;stroke:#e377c2;\" x=\"182.874628\" xlink:href=\"#m06b85c5642\" y=\"119.381061\"/>\n     <use style=\"fill:#e377c2;stroke:#e377c2;\" x=\"96.934222\" xlink:href=\"#m06b85c5642\" y=\"60.164654\"/>\n     <use style=\"fill:#e377c2;stroke:#e377c2;\" x=\"119.984428\" xlink:href=\"#m06b85c5642\" y=\"82.428904\"/>\n     <use style=\"fill:#e377c2;stroke:#e377c2;\" x=\"223.366021\" xlink:href=\"#m06b85c5642\" y=\"57.281016\"/>\n     <use style=\"fill:#e377c2;stroke:#e377c2;\" x=\"175.995363\" xlink:href=\"#m06b85c5642\" y=\"138.767049\"/>\n     <use style=\"fill:#e377c2;stroke:#e377c2;\" x=\"122.669711\" xlink:href=\"#m06b85c5642\" y=\"113.701699\"/>\n     <use style=\"fill:#e377c2;stroke:#e377c2;\" x=\"143.087915\" xlink:href=\"#m06b85c5642\" y=\"115.667468\"/>\n     <use style=\"fill:#e377c2;stroke:#e377c2;\" x=\"127.294909\" xlink:href=\"#m06b85c5642\" y=\"100.399331\"/>\n     <use style=\"fill:#e377c2;stroke:#e377c2;\" x=\"197.314037\" xlink:href=\"#m06b85c5642\" y=\"97.419255\"/>\n     <use style=\"fill:#e377c2;stroke:#e377c2;\" x=\"172.361024\" xlink:href=\"#m06b85c5642\" y=\"118.779775\"/>\n    </g>\n   </g>\n   <g id=\"PathCollection_8\">\n    <defs>\n     <path d=\"M 0 3 \nC 0.795609 3 1.55874 2.683901 2.12132 2.12132 \nC 2.683901 1.55874 3 0.795609 3 0 \nC 3 -0.795609 2.683901 -1.55874 2.12132 -2.12132 \nC 1.55874 -2.683901 0.795609 -3 0 -3 \nC -0.795609 -3 -1.55874 -2.683901 -2.12132 -2.12132 \nC -2.683901 -1.55874 -3 -0.795609 -3 0 \nC -3 0.795609 -2.683901 1.55874 -2.12132 2.12132 \nC -1.55874 2.683901 -0.795609 3 0 3 \nz\n\" id=\"m82771e4dc0\" style=\"stroke:#7f7f7f;\"/>\n    </defs>\n    <g clip-path=\"url(#p80e68be416)\">\n     <use style=\"fill:#7f7f7f;stroke:#7f7f7f;\" x=\"289.324754\" xlink:href=\"#m82771e4dc0\" y=\"162.834458\"/>\n     <use style=\"fill:#7f7f7f;stroke:#7f7f7f;\" x=\"345.630441\" xlink:href=\"#m82771e4dc0\" y=\"99.391613\"/>\n     <use style=\"fill:#7f7f7f;stroke:#7f7f7f;\" x=\"336.933214\" xlink:href=\"#m82771e4dc0\" y=\"55.911587\"/>\n     <use style=\"fill:#7f7f7f;stroke:#7f7f7f;\" x=\"294.418296\" xlink:href=\"#m82771e4dc0\" y=\"99.436368\"/>\n     <use style=\"fill:#7f7f7f;stroke:#7f7f7f;\" x=\"230.938104\" xlink:href=\"#m82771e4dc0\" y=\"150.311496\"/>\n     <use style=\"fill:#7f7f7f;stroke:#7f7f7f;\" x=\"232.3342\" xlink:href=\"#m82771e4dc0\" y=\"91.028595\"/>\n     <use style=\"fill:#7f7f7f;stroke:#7f7f7f;\" x=\"262.671154\" xlink:href=\"#m82771e4dc0\" y=\"78.665852\"/>\n     <use style=\"fill:#7f7f7f;stroke:#7f7f7f;\" x=\"272.610778\" xlink:href=\"#m82771e4dc0\" y=\"76.586955\"/>\n     <use style=\"fill:#7f7f7f;stroke:#7f7f7f;\" x=\"260.230587\" xlink:href=\"#m82771e4dc0\" y=\"74.481561\"/>\n    </g>\n   </g>\n   <g id=\"matplotlib.axis_1\">\n    <g id=\"xtick_1\">\n     <g id=\"line2d_1\">\n      <defs>\n       <path d=\"M 0 0 \nL 0 3.5 \n\" id=\"m6ec376b938\" style=\"stroke:#000000;stroke-width:0.8;\"/>\n      </defs>\n      <g>\n       <use style=\"stroke:#000000;stroke-width:0.8;\" x=\"73.423227\" xlink:href=\"#m6ec376b938\" y=\"224.64\"/>\n      </g>\n     </g>\n     <g id=\"text_1\">\n      <!-- −3 -->\n      <defs>\n       <path d=\"M 10.59375 35.5 \nL 73.1875 35.5 \nL 73.1875 27.203125 \nL 10.59375 27.203125 \nz\n\" id=\"DejaVuSans-8722\"/>\n       <path d=\"M 40.578125 39.3125 \nQ 47.65625 37.796875 51.625 33 \nQ 55.609375 28.21875 55.609375 21.1875 \nQ 55.609375 10.40625 48.1875 4.484375 \nQ 40.765625 -1.421875 27.09375 -1.421875 \nQ 22.515625 -1.421875 17.65625 -0.515625 \nQ 12.796875 0.390625 7.625 2.203125 \nL 7.625 11.71875 \nQ 11.71875 9.328125 16.59375 8.109375 \nQ 21.484375 6.890625 26.8125 6.890625 \nQ 36.078125 6.890625 40.9375 10.546875 \nQ 45.796875 14.203125 45.796875 21.1875 \nQ 45.796875 27.640625 41.28125 31.265625 \nQ 36.765625 34.90625 28.71875 34.90625 \nL 20.21875 34.90625 \nL 20.21875 43.015625 \nL 29.109375 43.015625 \nQ 36.375 43.015625 40.234375 45.921875 \nQ 44.09375 48.828125 44.09375 54.296875 \nQ 44.09375 59.90625 40.109375 62.90625 \nQ 36.140625 65.921875 28.71875 65.921875 \nQ 24.65625 65.921875 20.015625 65.03125 \nQ 15.375 64.15625 9.8125 62.3125 \nL 9.8125 71.09375 \nQ 15.4375 72.65625 20.34375 73.4375 \nQ 25.25 74.21875 29.59375 74.21875 \nQ 40.828125 74.21875 47.359375 69.109375 \nQ 53.90625 64.015625 53.90625 55.328125 \nQ 53.90625 49.265625 50.4375 45.09375 \nQ 46.96875 40.921875 40.578125 39.3125 \nz\n\" id=\"DejaVuSans-51\"/>\n      </defs>\n      <g transform=\"translate(66.052134 239.238437)scale(0.1 -0.1)\">\n       <use xlink:href=\"#DejaVuSans-8722\"/>\n       <use x=\"83.789062\" xlink:href=\"#DejaVuSans-51\"/>\n      </g>\n     </g>\n    </g>\n    <g id=\"xtick_2\">\n     <g id=\"line2d_2\">\n      <g>\n       <use style=\"stroke:#000000;stroke-width:0.8;\" x=\"118.640546\" xlink:href=\"#m6ec376b938\" y=\"224.64\"/>\n      </g>\n     </g>\n     <g id=\"text_2\">\n      <!-- −2 -->\n      <defs>\n       <path d=\"M 19.1875 8.296875 \nL 53.609375 8.296875 \nL 53.609375 0 \nL 7.328125 0 \nL 7.328125 8.296875 \nQ 12.9375 14.109375 22.625 23.890625 \nQ 32.328125 33.6875 34.8125 36.53125 \nQ 39.546875 41.84375 41.421875 45.53125 \nQ 43.3125 49.21875 43.3125 52.78125 \nQ 43.3125 58.59375 39.234375 62.25 \nQ 35.15625 65.921875 28.609375 65.921875 \nQ 23.96875 65.921875 18.8125 64.3125 \nQ 13.671875 62.703125 7.8125 59.421875 \nL 7.8125 69.390625 \nQ 13.765625 71.78125 18.9375 73 \nQ 24.125 74.21875 28.421875 74.21875 \nQ 39.75 74.21875 46.484375 68.546875 \nQ 53.21875 62.890625 53.21875 53.421875 \nQ 53.21875 48.921875 51.53125 44.890625 \nQ 49.859375 40.875 45.40625 35.40625 \nQ 44.1875 33.984375 37.640625 27.21875 \nQ 31.109375 20.453125 19.1875 8.296875 \nz\n\" id=\"DejaVuSans-50\"/>\n      </defs>\n      <g transform=\"translate(111.269453 239.238437)scale(0.1 -0.1)\">\n       <use xlink:href=\"#DejaVuSans-8722\"/>\n       <use x=\"83.789062\" xlink:href=\"#DejaVuSans-50\"/>\n      </g>\n     </g>\n    </g>\n    <g id=\"xtick_3\">\n     <g id=\"line2d_3\">\n      <g>\n       <use style=\"stroke:#000000;stroke-width:0.8;\" x=\"163.857865\" xlink:href=\"#m6ec376b938\" y=\"224.64\"/>\n      </g>\n     </g>\n     <g id=\"text_3\">\n      <!-- −1 -->\n      <defs>\n       <path d=\"M 12.40625 8.296875 \nL 28.515625 8.296875 \nL 28.515625 63.921875 \nL 10.984375 60.40625 \nL 10.984375 69.390625 \nL 28.421875 72.90625 \nL 38.28125 72.90625 \nL 38.28125 8.296875 \nL 54.390625 8.296875 \nL 54.390625 0 \nL 12.40625 0 \nz\n\" id=\"DejaVuSans-49\"/>\n      </defs>\n      <g transform=\"translate(156.486772 239.238437)scale(0.1 -0.1)\">\n       <use xlink:href=\"#DejaVuSans-8722\"/>\n       <use x=\"83.789062\" xlink:href=\"#DejaVuSans-49\"/>\n      </g>\n     </g>\n    </g>\n    <g id=\"xtick_4\">\n     <g id=\"line2d_4\">\n      <g>\n       <use style=\"stroke:#000000;stroke-width:0.8;\" x=\"209.075184\" xlink:href=\"#m6ec376b938\" y=\"224.64\"/>\n      </g>\n     </g>\n     <g id=\"text_4\">\n      <!-- 0 -->\n      <defs>\n       <path d=\"M 31.78125 66.40625 \nQ 24.171875 66.40625 20.328125 58.90625 \nQ 16.5 51.421875 16.5 36.375 \nQ 16.5 21.390625 20.328125 13.890625 \nQ 24.171875 6.390625 31.78125 6.390625 \nQ 39.453125 6.390625 43.28125 13.890625 \nQ 47.125 21.390625 47.125 36.375 \nQ 47.125 51.421875 43.28125 58.90625 \nQ 39.453125 66.40625 31.78125 66.40625 \nz\nM 31.78125 74.21875 \nQ 44.046875 74.21875 50.515625 64.515625 \nQ 56.984375 54.828125 56.984375 36.375 \nQ 56.984375 17.96875 50.515625 8.265625 \nQ 44.046875 -1.421875 31.78125 -1.421875 \nQ 19.53125 -1.421875 13.0625 8.265625 \nQ 6.59375 17.96875 6.59375 36.375 \nQ 6.59375 54.828125 13.0625 64.515625 \nQ 19.53125 74.21875 31.78125 74.21875 \nz\n\" id=\"DejaVuSans-48\"/>\n      </defs>\n      <g transform=\"translate(205.893934 239.238437)scale(0.1 -0.1)\">\n       <use xlink:href=\"#DejaVuSans-48\"/>\n      </g>\n     </g>\n    </g>\n    <g id=\"xtick_5\">\n     <g id=\"line2d_5\">\n      <g>\n       <use style=\"stroke:#000000;stroke-width:0.8;\" x=\"254.292503\" xlink:href=\"#m6ec376b938\" y=\"224.64\"/>\n      </g>\n     </g>\n     <g id=\"text_5\">\n      <!-- 1 -->\n      <g transform=\"translate(251.111253 239.238437)scale(0.1 -0.1)\">\n       <use xlink:href=\"#DejaVuSans-49\"/>\n      </g>\n     </g>\n    </g>\n    <g id=\"xtick_6\">\n     <g id=\"line2d_6\">\n      <g>\n       <use style=\"stroke:#000000;stroke-width:0.8;\" x=\"299.509822\" xlink:href=\"#m6ec376b938\" y=\"224.64\"/>\n      </g>\n     </g>\n     <g id=\"text_6\">\n      <!-- 2 -->\n      <g transform=\"translate(296.328572 239.238437)scale(0.1 -0.1)\">\n       <use xlink:href=\"#DejaVuSans-50\"/>\n      </g>\n     </g>\n    </g>\n    <g id=\"xtick_7\">\n     <g id=\"line2d_7\">\n      <g>\n       <use style=\"stroke:#000000;stroke-width:0.8;\" x=\"344.727141\" xlink:href=\"#m6ec376b938\" y=\"224.64\"/>\n      </g>\n     </g>\n     <g id=\"text_7\">\n      <!-- 3 -->\n      <g transform=\"translate(341.545891 239.238437)scale(0.1 -0.1)\">\n       <use xlink:href=\"#DejaVuSans-51\"/>\n      </g>\n     </g>\n    </g>\n   </g>\n   <g id=\"matplotlib.axis_2\">\n    <g id=\"ytick_1\">\n     <g id=\"line2d_8\">\n      <defs>\n       <path d=\"M 0 0 \nL -3.5 0 \n\" id=\"me7010962ee\" style=\"stroke:#000000;stroke-width:0.8;\"/>\n      </defs>\n      <g>\n       <use style=\"stroke:#000000;stroke-width:0.8;\" x=\"28.942188\" xlink:href=\"#me7010962ee\" y=\"213.840863\"/>\n      </g>\n     </g>\n     <g id=\"text_8\">\n      <!-- −3 -->\n      <g transform=\"translate(7.2 217.640082)scale(0.1 -0.1)\">\n       <use xlink:href=\"#DejaVuSans-8722\"/>\n       <use x=\"83.789062\" xlink:href=\"#DejaVuSans-51\"/>\n      </g>\n     </g>\n    </g>\n    <g id=\"ytick_2\">\n     <g id=\"line2d_9\">\n      <g>\n       <use style=\"stroke:#000000;stroke-width:0.8;\" x=\"28.942188\" xlink:href=\"#me7010962ee\" y=\"177.650072\"/>\n      </g>\n     </g>\n     <g id=\"text_9\">\n      <!-- −2 -->\n      <g transform=\"translate(7.2 181.449291)scale(0.1 -0.1)\">\n       <use xlink:href=\"#DejaVuSans-8722\"/>\n       <use x=\"83.789062\" xlink:href=\"#DejaVuSans-50\"/>\n      </g>\n     </g>\n    </g>\n    <g id=\"ytick_3\">\n     <g id=\"line2d_10\">\n      <g>\n       <use style=\"stroke:#000000;stroke-width:0.8;\" x=\"28.942188\" xlink:href=\"#me7010962ee\" y=\"141.459281\"/>\n      </g>\n     </g>\n     <g id=\"text_10\">\n      <!-- −1 -->\n      <g transform=\"translate(7.2 145.2585)scale(0.1 -0.1)\">\n       <use xlink:href=\"#DejaVuSans-8722\"/>\n       <use x=\"83.789062\" xlink:href=\"#DejaVuSans-49\"/>\n      </g>\n     </g>\n    </g>\n    <g id=\"ytick_4\">\n     <g id=\"line2d_11\">\n      <g>\n       <use style=\"stroke:#000000;stroke-width:0.8;\" x=\"28.942188\" xlink:href=\"#me7010962ee\" y=\"105.26849\"/>\n      </g>\n     </g>\n     <g id=\"text_11\">\n      <!-- 0 -->\n      <g transform=\"translate(15.579688 109.067709)scale(0.1 -0.1)\">\n       <use xlink:href=\"#DejaVuSans-48\"/>\n      </g>\n     </g>\n    </g>\n    <g id=\"ytick_5\">\n     <g id=\"line2d_12\">\n      <g>\n       <use style=\"stroke:#000000;stroke-width:0.8;\" x=\"28.942188\" xlink:href=\"#me7010962ee\" y=\"69.077699\"/>\n      </g>\n     </g>\n     <g id=\"text_12\">\n      <!-- 1 -->\n      <g transform=\"translate(15.579688 72.876918)scale(0.1 -0.1)\">\n       <use xlink:href=\"#DejaVuSans-49\"/>\n      </g>\n     </g>\n    </g>\n    <g id=\"ytick_6\">\n     <g id=\"line2d_13\">\n      <g>\n       <use style=\"stroke:#000000;stroke-width:0.8;\" x=\"28.942188\" xlink:href=\"#me7010962ee\" y=\"32.886908\"/>\n      </g>\n     </g>\n     <g id=\"text_13\">\n      <!-- 2 -->\n      <g transform=\"translate(15.579688 36.686127)scale(0.1 -0.1)\">\n       <use xlink:href=\"#DejaVuSans-50\"/>\n      </g>\n     </g>\n    </g>\n   </g>\n   <g id=\"patch_3\">\n    <path d=\"M 28.942188 224.64 \nL 28.942188 7.2 \n\" style=\"fill:none;stroke:#000000;stroke-linecap:square;stroke-linejoin:miter;stroke-width:0.8;\"/>\n   </g>\n   <g id=\"patch_4\">\n    <path d=\"M 363.742188 224.64 \nL 363.742188 7.2 \n\" style=\"fill:none;stroke:#000000;stroke-linecap:square;stroke-linejoin:miter;stroke-width:0.8;\"/>\n   </g>\n   <g id=\"patch_5\">\n    <path d=\"M 28.942187 224.64 \nL 363.742188 224.64 \n\" style=\"fill:none;stroke:#000000;stroke-linecap:square;stroke-linejoin:miter;stroke-width:0.8;\"/>\n   </g>\n   <g id=\"patch_6\">\n    <path d=\"M 28.942187 7.2 \nL 363.742188 7.2 \n\" style=\"fill:none;stroke:#000000;stroke-linecap:square;stroke-linejoin:miter;stroke-width:0.8;\"/>\n   </g>\n  </g>\n </g>\n <defs>\n  <clipPath id=\"p80e68be416\">\n   <rect height=\"217.44\" width=\"334.8\" x=\"28.942188\" y=\"7.2\"/>\n  </clipPath>\n </defs>\n</svg>\n",
      "image/png": "[encoded data removed]"
     },
     "metadata": {
      "needs_background": "light"
     }
    }
   ],
   "source": [
    "from numpy import unique\n",
    "from numpy import where\n",
    "from sklearn.datasets import make_classification\n",
    "from sklearn.cluster import KMeans\n",
    "from matplotlib import pyplot\n",
    "# define dataset\n",
    "\n",
    "dataset = pd.read_csv(\"datasets/Pittsburgh Bridges/bridges.data\")\n",
    "\n",
    "\n",
    "X, _ = make_classification(n_samples=len(dataset.axes[0]), n_features=len(dataset.axes[1]), n_informative=2, n_redundant=0, n_clusters_per_class=1, random_state=4)\n",
    "# define the model\n",
    "model = KMeans(n_clusters=dataset.iloc[:, -1].nunique(dropna=False))\n",
    "# fit the model\n",
    "model.fit(X)\n",
    "# assign a cluster to each example\n",
    "yhat = model.predict(X)\n",
    "# retrieve unique clusters\n",
    "clusters = unique(yhat)\n",
    "# create scatter plot for samples from each cluster\n",
    "for cluster in clusters:\n",
    "\t# get row indexes for samples with this cluster\n",
    "\trow_ix = where(yhat == cluster)\n",
    "\t# create scatter of these samples\n",
    "\tpyplot.scatter(X[row_ix, 0], X[row_ix, 1])\n",
    "# show the plot\n",
    "pyplot.show()"
   ]
  },
  {
   "cell_type": "code",
   "execution_count": 4,
   "metadata": {},
   "outputs": [
    {
     "output_type": "error",
     "ename": "SyntaxError",
     "evalue": "invalid syntax (<ipython-input-4-131ab92f3d63>, line 14)",
     "traceback": [
      "\u001b[0;36m  File \u001b[0;32m\"<ipython-input-4-131ab92f3d63>\"\u001b[0;36m, line \u001b[0;32m14\u001b[0m\n\u001b[0;31m    model = SpectralClustering(n_clusters=n_clusters=dataset.iloc[:, -1].nunique(dropna=False))\u001b[0m\n\u001b[0m                                                    ^\u001b[0m\n\u001b[0;31mSyntaxError\u001b[0m\u001b[0;31m:\u001b[0m invalid syntax\n"
     ]
    }
   ],
   "source": [
    "# spectral clustering\n",
    "from numpy import unique\n",
    "from numpy import where\n",
    "from sklearn.datasets import make_classification\n",
    "from sklearn.cluster import SpectralClustering\n",
    "from matplotlib import pyplot\n",
    "# define dataset\n",
    "dataset = pd.read_csv(\"datasets/ballons/yellow-small+adult-stretch.data\")\n",
    "\n",
    "X, _ = make_classification(n_samples=len(dataset.axes[0]), n_features=len(dataset.axes[1]), n_informative=2, n_redundant=0, n_clusters_per_class=1, random_state=4)\n",
    "# define the model\n",
    "\n",
    "# define the model\n",
    "model = SpectralClustering(n_clusters=n_clusters=dataset.iloc[:, -1].nunique(dropna=False))\n",
    "# fit model and predict clusters\n",
    "yhat = model.fit_predict(X)\n",
    "# retrieve unique clusters\n",
    "clusters = unique(yhat)\n",
    "# create scatter plot for samples from each cluster\n",
    "for cluster in clusters:\n",
    "\t# get row indexes for samples with this cluster\n",
    "\trow_ix = where(yhat == cluster)\n",
    "\t# create scatter of these samples\n",
    "\tpyplot.scatter(X[row_ix, 0], X[row_ix, 1])\n",
    "# show the plot\n",
    "pyplot.show()"
   ]
  },
  {
   "cell_type": "code",
   "execution_count": null,
   "metadata": {},
   "outputs": [],
   "source": []
  },
  {
   "cell_type": "code",
   "execution_count": 5,
   "metadata": {},
   "outputs": [
    {
     "output_type": "display_data",
     "data": {
      "text/plain": "<Figure size 432x288 with 1 Axes>",
      "image/svg+xml": "<?xml version=\"1.0\" encoding=\"utf-8\" standalone=\"no\"?>\n<!DOCTYPE svg PUBLIC \"-//W3C//DTD SVG 1.1//EN\"\n  \"http://www.w3.org/Graphics/SVG/1.1/DTD/svg11.dtd\">\n<!-- Created with matplotlib (https://matplotlib.org/) -->\n<svg height=\"248.518125pt\" version=\"1.1\" viewBox=\"0 0 370.942187 248.518125\" width=\"370.942187pt\" xmlns=\"http://www.w3.org/2000/svg\" xmlns:xlink=\"http://www.w3.org/1999/xlink\">\n <defs>\n  <style type=\"text/css\">\n*{stroke-linecap:butt;stroke-linejoin:round;}\n  </style>\n </defs>\n <g id=\"figure_1\">\n  <g id=\"patch_1\">\n   <path d=\"M 0 248.518125 \nL 370.942187 248.518125 \nL 370.942187 0 \nL 0 0 \nz\n\" style=\"fill:none;\"/>\n  </g>\n  <g id=\"axes_1\">\n   <g id=\"patch_2\">\n    <path d=\"M 28.942188 224.64 \nL 363.742188 224.64 \nL 363.742188 7.2 \nL 28.942188 7.2 \nz\n\" style=\"fill:#ffffff;\"/>\n   </g>\n   <g id=\"PathCollection_1\">\n    <defs>\n     <path d=\"M 0 3 \nC 0.795609 3 1.55874 2.683901 2.12132 2.12132 \nC 2.683901 1.55874 3 0.795609 3 0 \nC 3 -0.795609 2.683901 -1.55874 2.12132 -2.12132 \nC 1.55874 -2.683901 0.795609 -3 0 -3 \nC -0.795609 -3 -1.55874 -2.683901 -2.12132 -2.12132 \nC -2.683901 -1.55874 -3 -0.795609 -3 0 \nC -3 0.795609 -2.683901 1.55874 -2.12132 2.12132 \nC -1.55874 2.683901 -0.795609 3 0 3 \nz\n\" id=\"m78371ff292\" style=\"stroke:#1f77b4;\"/>\n    </defs>\n    <g clip-path=\"url(#p5602ec7763)\">\n     <use style=\"fill:#1f77b4;stroke:#1f77b4;\" x=\"234.226996\" xlink:href=\"#m78371ff292\" y=\"107.553785\"/>\n     <use style=\"fill:#1f77b4;stroke:#1f77b4;\" x=\"231.686362\" xlink:href=\"#m78371ff292\" y=\"162.15301\"/>\n     <use style=\"fill:#1f77b4;stroke:#1f77b4;\" x=\"222.968559\" xlink:href=\"#m78371ff292\" y=\"17.701279\"/>\n     <use style=\"fill:#1f77b4;stroke:#1f77b4;\" x=\"320.082399\" xlink:href=\"#m78371ff292\" y=\"118.796128\"/>\n     <use style=\"fill:#1f77b4;stroke:#1f77b4;\" x=\"222.276926\" xlink:href=\"#m78371ff292\" y=\"60.957037\"/>\n     <use style=\"fill:#1f77b4;stroke:#1f77b4;\" x=\"224.751086\" xlink:href=\"#m78371ff292\" y=\"138.440923\"/>\n     <use style=\"fill:#1f77b4;stroke:#1f77b4;\" x=\"233.551301\" xlink:href=\"#m78371ff292\" y=\"151.510479\"/>\n     <use style=\"fill:#1f77b4;stroke:#1f77b4;\" x=\"164.907388\" xlink:href=\"#m78371ff292\" y=\"118.856517\"/>\n     <use style=\"fill:#1f77b4;stroke:#1f77b4;\" x=\"92.042754\" xlink:href=\"#m78371ff292\" y=\"95.649312\"/>\n     <use style=\"fill:#1f77b4;stroke:#1f77b4;\" x=\"227.957645\" xlink:href=\"#m78371ff292\" y=\"138.901736\"/>\n     <use style=\"fill:#1f77b4;stroke:#1f77b4;\" x=\"211.824111\" xlink:href=\"#m78371ff292\" y=\"115.371519\"/>\n     <use style=\"fill:#1f77b4;stroke:#1f77b4;\" x=\"248.880932\" xlink:href=\"#m78371ff292\" y=\"90.794862\"/>\n     <use style=\"fill:#1f77b4;stroke:#1f77b4;\" x=\"192.985515\" xlink:href=\"#m78371ff292\" y=\"144.293608\"/>\n     <use style=\"fill:#1f77b4;stroke:#1f77b4;\" x=\"232.889151\" xlink:href=\"#m78371ff292\" y=\"125.500886\"/>\n     <use style=\"fill:#1f77b4;stroke:#1f77b4;\" x=\"148.498995\" xlink:href=\"#m78371ff292\" y=\"98.730246\"/>\n     <use style=\"fill:#1f77b4;stroke:#1f77b4;\" x=\"265.232563\" xlink:href=\"#m78371ff292\" y=\"146.978291\"/>\n     <use style=\"fill:#1f77b4;stroke:#1f77b4;\" x=\"65.25466\" xlink:href=\"#m78371ff292\" y=\"189.929337\"/>\n     <use style=\"fill:#1f77b4;stroke:#1f77b4;\" x=\"212.423764\" xlink:href=\"#m78371ff292\" y=\"154.079402\"/>\n     <use style=\"fill:#1f77b4;stroke:#1f77b4;\" x=\"289.49076\" xlink:href=\"#m78371ff292\" y=\"120.764026\"/>\n     <use style=\"fill:#1f77b4;stroke:#1f77b4;\" x=\"71.470684\" xlink:href=\"#m78371ff292\" y=\"118.912597\"/>\n     <use style=\"fill:#1f77b4;stroke:#1f77b4;\" x=\"153.357537\" xlink:href=\"#m78371ff292\" y=\"159.351784\"/>\n     <use style=\"fill:#1f77b4;stroke:#1f77b4;\" x=\"147.207277\" xlink:href=\"#m78371ff292\" y=\"214.138721\"/>\n     <use style=\"fill:#1f77b4;stroke:#1f77b4;\" x=\"273.743938\" xlink:href=\"#m78371ff292\" y=\"176.208466\"/>\n     <use style=\"fill:#1f77b4;stroke:#1f77b4;\" x=\"234.860295\" xlink:href=\"#m78371ff292\" y=\"127.741875\"/>\n     <use style=\"fill:#1f77b4;stroke:#1f77b4;\" x=\"303.104948\" xlink:href=\"#m78371ff292\" y=\"161.012273\"/>\n     <use style=\"fill:#1f77b4;stroke:#1f77b4;\" x=\"208.760636\" xlink:href=\"#m78371ff292\" y=\"106.277129\"/>\n     <use style=\"fill:#1f77b4;stroke:#1f77b4;\" x=\"180.466899\" xlink:href=\"#m78371ff292\" y=\"73.822636\"/>\n     <use style=\"fill:#1f77b4;stroke:#1f77b4;\" x=\"227.986955\" xlink:href=\"#m78371ff292\" y=\"92.116135\"/>\n     <use style=\"fill:#1f77b4;stroke:#1f77b4;\" x=\"170.289948\" xlink:href=\"#m78371ff292\" y=\"94.178384\"/>\n     <use style=\"fill:#1f77b4;stroke:#1f77b4;\" x=\"203.477824\" xlink:href=\"#m78371ff292\" y=\"110.079537\"/>\n     <use style=\"fill:#1f77b4;stroke:#1f77b4;\" x=\"232.246374\" xlink:href=\"#m78371ff292\" y=\"95.656694\"/>\n     <use style=\"fill:#1f77b4;stroke:#1f77b4;\" x=\"272.519355\" xlink:href=\"#m78371ff292\" y=\"194.034563\"/>\n     <use style=\"fill:#1f77b4;stroke:#1f77b4;\" x=\"239.088132\" xlink:href=\"#m78371ff292\" y=\"121.647061\"/>\n     <use style=\"fill:#1f77b4;stroke:#1f77b4;\" x=\"223.42601\" xlink:href=\"#m78371ff292\" y=\"147.256367\"/>\n     <use style=\"fill:#1f77b4;stroke:#1f77b4;\" x=\"232.173593\" xlink:href=\"#m78371ff292\" y=\"101.170152\"/>\n     <use style=\"fill:#1f77b4;stroke:#1f77b4;\" x=\"211.85319\" xlink:href=\"#m78371ff292\" y=\"136.555999\"/>\n     <use style=\"fill:#1f77b4;stroke:#1f77b4;\" x=\"252.059251\" xlink:href=\"#m78371ff292\" y=\"140.246644\"/>\n     <use style=\"fill:#1f77b4;stroke:#1f77b4;\" x=\"347.932503\" xlink:href=\"#m78371ff292\" y=\"110.419125\"/>\n    </g>\n   </g>\n   <g id=\"PathCollection_2\">\n    <defs>\n     <path d=\"M 0 3 \nC 0.795609 3 1.55874 2.683901 2.12132 2.12132 \nC 2.683901 1.55874 3 0.795609 3 0 \nC 3 -0.795609 2.683901 -1.55874 2.12132 -2.12132 \nC 1.55874 -2.683901 0.795609 -3 0 -3 \nC -0.795609 -3 -1.55874 -2.683901 -2.12132 -2.12132 \nC -2.683901 -1.55874 -3 -0.795609 -3 0 \nC -3 0.795609 -2.683901 1.55874 -2.12132 2.12132 \nC -1.55874 2.683901 -0.795609 3 0 3 \nz\n\" id=\"m44d4131fca\" style=\"stroke:#ff7f0e;\"/>\n    </defs>\n    <g clip-path=\"url(#p5602ec7763)\">\n     <use style=\"fill:#ff7f0e;stroke:#ff7f0e;\" x=\"191.238846\" xlink:href=\"#m44d4131fca\" y=\"131.04724\"/>\n     <use style=\"fill:#ff7f0e;stroke:#ff7f0e;\" x=\"142.850667\" xlink:href=\"#m44d4131fca\" y=\"112.565232\"/>\n     <use style=\"fill:#ff7f0e;stroke:#ff7f0e;\" x=\"158.929215\" xlink:href=\"#m44d4131fca\" y=\"141.310591\"/>\n     <use style=\"fill:#ff7f0e;stroke:#ff7f0e;\" x=\"46.958281\" xlink:href=\"#m44d4131fca\" y=\"98.883837\"/>\n     <use style=\"fill:#ff7f0e;stroke:#ff7f0e;\" x=\"263.826432\" xlink:href=\"#m44d4131fca\" y=\"118.332316\"/>\n     <use style=\"fill:#ff7f0e;stroke:#ff7f0e;\" x=\"219.497808\" xlink:href=\"#m44d4131fca\" y=\"123.672942\"/>\n     <use style=\"fill:#ff7f0e;stroke:#ff7f0e;\" x=\"204.953131\" xlink:href=\"#m44d4131fca\" y=\"108.577184\"/>\n     <use style=\"fill:#ff7f0e;stroke:#ff7f0e;\" x=\"330.577476\" xlink:href=\"#m44d4131fca\" y=\"167.352782\"/>\n     <use style=\"fill:#ff7f0e;stroke:#ff7f0e;\" x=\"229.791709\" xlink:href=\"#m44d4131fca\" y=\"112.54297\"/>\n     <use style=\"fill:#ff7f0e;stroke:#ff7f0e;\" x=\"95.988075\" xlink:href=\"#m44d4131fca\" y=\"155.464967\"/>\n     <use style=\"fill:#ff7f0e;stroke:#ff7f0e;\" x=\"305.32451\" xlink:href=\"#m44d4131fca\" y=\"149.957282\"/>\n     <use style=\"fill:#ff7f0e;stroke:#ff7f0e;\" x=\"196.274595\" xlink:href=\"#m44d4131fca\" y=\"111.318723\"/>\n     <use style=\"fill:#ff7f0e;stroke:#ff7f0e;\" x=\"265.830588\" xlink:href=\"#m44d4131fca\" y=\"135.181915\"/>\n     <use style=\"fill:#ff7f0e;stroke:#ff7f0e;\" x=\"254.936879\" xlink:href=\"#m44d4131fca\" y=\"123.13328\"/>\n     <use style=\"fill:#ff7f0e;stroke:#ff7f0e;\" x=\"128.66326\" xlink:href=\"#m44d4131fca\" y=\"109.810206\"/>\n     <use style=\"fill:#ff7f0e;stroke:#ff7f0e;\" x=\"215.371783\" xlink:href=\"#m44d4131fca\" y=\"99.345897\"/>\n     <use style=\"fill:#ff7f0e;stroke:#ff7f0e;\" x=\"281.270273\" xlink:href=\"#m44d4131fca\" y=\"160.598078\"/>\n     <use style=\"fill:#ff7f0e;stroke:#ff7f0e;\" x=\"189.611929\" xlink:href=\"#m44d4131fca\" y=\"144.276797\"/>\n     <use style=\"fill:#ff7f0e;stroke:#ff7f0e;\" x=\"210.693555\" xlink:href=\"#m44d4131fca\" y=\"121.362713\"/>\n     <use style=\"fill:#ff7f0e;stroke:#ff7f0e;\" x=\"204.810082\" xlink:href=\"#m44d4131fca\" y=\"147.237701\"/>\n     <use style=\"fill:#ff7f0e;stroke:#ff7f0e;\" x=\"203.170831\" xlink:href=\"#m44d4131fca\" y=\"120.658699\"/>\n     <use style=\"fill:#ff7f0e;stroke:#ff7f0e;\" x=\"252.064848\" xlink:href=\"#m44d4131fca\" y=\"106.898677\"/>\n     <use style=\"fill:#ff7f0e;stroke:#ff7f0e;\" x=\"202.301436\" xlink:href=\"#m44d4131fca\" y=\"143.451073\"/>\n     <use style=\"fill:#ff7f0e;stroke:#ff7f0e;\" x=\"99.529716\" xlink:href=\"#m44d4131fca\" y=\"128.802596\"/>\n     <use style=\"fill:#ff7f0e;stroke:#ff7f0e;\" x=\"181.53326\" xlink:href=\"#m44d4131fca\" y=\"104.20696\"/>\n     <use style=\"fill:#ff7f0e;stroke:#ff7f0e;\" x=\"260.968212\" xlink:href=\"#m44d4131fca\" y=\"138.259844\"/>\n     <use style=\"fill:#ff7f0e;stroke:#ff7f0e;\" x=\"236.460785\" xlink:href=\"#m44d4131fca\" y=\"117.641377\"/>\n     <use style=\"fill:#ff7f0e;stroke:#ff7f0e;\" x=\"224.325849\" xlink:href=\"#m44d4131fca\" y=\"120.179606\"/>\n     <use style=\"fill:#ff7f0e;stroke:#ff7f0e;\" x=\"160.534813\" xlink:href=\"#m44d4131fca\" y=\"154.142026\"/>\n     <use style=\"fill:#ff7f0e;stroke:#ff7f0e;\" x=\"269.203264\" xlink:href=\"#m44d4131fca\" y=\"139.701099\"/>\n     <use style=\"fill:#ff7f0e;stroke:#ff7f0e;\" x=\"193.476253\" xlink:href=\"#m44d4131fca\" y=\"126.840139\"/>\n     <use style=\"fill:#ff7f0e;stroke:#ff7f0e;\" x=\"234.16914\" xlink:href=\"#m44d4131fca\" y=\"115.054342\"/>\n     <use style=\"fill:#ff7f0e;stroke:#ff7f0e;\" x=\"167.996305\" xlink:href=\"#m44d4131fca\" y=\"143.506445\"/>\n     <use style=\"fill:#ff7f0e;stroke:#ff7f0e;\" x=\"192.156835\" xlink:href=\"#m44d4131fca\" y=\"103.778899\"/>\n     <use style=\"fill:#ff7f0e;stroke:#ff7f0e;\" x=\"147.749184\" xlink:href=\"#m44d4131fca\" y=\"142.088481\"/>\n     <use style=\"fill:#ff7f0e;stroke:#ff7f0e;\" x=\"213.499513\" xlink:href=\"#m44d4131fca\" y=\"128.428216\"/>\n     <use style=\"fill:#ff7f0e;stroke:#ff7f0e;\" x=\"52.842209\" xlink:href=\"#m44d4131fca\" y=\"136.230122\"/>\n    </g>\n   </g>\n   <g id=\"matplotlib.axis_1\">\n    <g id=\"xtick_1\">\n     <g id=\"line2d_1\">\n      <defs>\n       <path d=\"M 0 0 \nL 0 3.5 \n\" id=\"m70f0d83671\" style=\"stroke:#000000;stroke-width:0.8;\"/>\n      </defs>\n      <g>\n       <use style=\"stroke:#000000;stroke-width:0.8;\" x=\"75.19822\" xlink:href=\"#m70f0d83671\" y=\"224.64\"/>\n      </g>\n     </g>\n     <g id=\"text_1\">\n      <!-- −2 -->\n      <defs>\n       <path d=\"M 10.59375 35.5 \nL 73.1875 35.5 \nL 73.1875 27.203125 \nL 10.59375 27.203125 \nz\n\" id=\"DejaVuSans-8722\"/>\n       <path d=\"M 19.1875 8.296875 \nL 53.609375 8.296875 \nL 53.609375 0 \nL 7.328125 0 \nL 7.328125 8.296875 \nQ 12.9375 14.109375 22.625 23.890625 \nQ 32.328125 33.6875 34.8125 36.53125 \nQ 39.546875 41.84375 41.421875 45.53125 \nQ 43.3125 49.21875 43.3125 52.78125 \nQ 43.3125 58.59375 39.234375 62.25 \nQ 35.15625 65.921875 28.609375 65.921875 \nQ 23.96875 65.921875 18.8125 64.3125 \nQ 13.671875 62.703125 7.8125 59.421875 \nL 7.8125 69.390625 \nQ 13.765625 71.78125 18.9375 73 \nQ 24.125 74.21875 28.421875 74.21875 \nQ 39.75 74.21875 46.484375 68.546875 \nQ 53.21875 62.890625 53.21875 53.421875 \nQ 53.21875 48.921875 51.53125 44.890625 \nQ 49.859375 40.875 45.40625 35.40625 \nQ 44.1875 33.984375 37.640625 27.21875 \nQ 31.109375 20.453125 19.1875 8.296875 \nz\n\" id=\"DejaVuSans-50\"/>\n      </defs>\n      <g transform=\"translate(67.827126 239.238437)scale(0.1 -0.1)\">\n       <use xlink:href=\"#DejaVuSans-8722\"/>\n       <use x=\"83.789062\" xlink:href=\"#DejaVuSans-50\"/>\n      </g>\n     </g>\n    </g>\n    <g id=\"xtick_2\">\n     <g id=\"line2d_2\">\n      <g>\n       <use style=\"stroke:#000000;stroke-width:0.8;\" x=\"141.209957\" xlink:href=\"#m70f0d83671\" y=\"224.64\"/>\n      </g>\n     </g>\n     <g id=\"text_2\">\n      <!-- −1 -->\n      <defs>\n       <path d=\"M 12.40625 8.296875 \nL 28.515625 8.296875 \nL 28.515625 63.921875 \nL 10.984375 60.40625 \nL 10.984375 69.390625 \nL 28.421875 72.90625 \nL 38.28125 72.90625 \nL 38.28125 8.296875 \nL 54.390625 8.296875 \nL 54.390625 0 \nL 12.40625 0 \nz\n\" id=\"DejaVuSans-49\"/>\n      </defs>\n      <g transform=\"translate(133.838864 239.238437)scale(0.1 -0.1)\">\n       <use xlink:href=\"#DejaVuSans-8722\"/>\n       <use x=\"83.789062\" xlink:href=\"#DejaVuSans-49\"/>\n      </g>\n     </g>\n    </g>\n    <g id=\"xtick_3\">\n     <g id=\"line2d_3\">\n      <g>\n       <use style=\"stroke:#000000;stroke-width:0.8;\" x=\"207.221694\" xlink:href=\"#m70f0d83671\" y=\"224.64\"/>\n      </g>\n     </g>\n     <g id=\"text_3\">\n      <!-- 0 -->\n      <defs>\n       <path d=\"M 31.78125 66.40625 \nQ 24.171875 66.40625 20.328125 58.90625 \nQ 16.5 51.421875 16.5 36.375 \nQ 16.5 21.390625 20.328125 13.890625 \nQ 24.171875 6.390625 31.78125 6.390625 \nQ 39.453125 6.390625 43.28125 13.890625 \nQ 47.125 21.390625 47.125 36.375 \nQ 47.125 51.421875 43.28125 58.90625 \nQ 39.453125 66.40625 31.78125 66.40625 \nz\nM 31.78125 74.21875 \nQ 44.046875 74.21875 50.515625 64.515625 \nQ 56.984375 54.828125 56.984375 36.375 \nQ 56.984375 17.96875 50.515625 8.265625 \nQ 44.046875 -1.421875 31.78125 -1.421875 \nQ 19.53125 -1.421875 13.0625 8.265625 \nQ 6.59375 17.96875 6.59375 36.375 \nQ 6.59375 54.828125 13.0625 64.515625 \nQ 19.53125 74.21875 31.78125 74.21875 \nz\n\" id=\"DejaVuSans-48\"/>\n      </defs>\n      <g transform=\"translate(204.040444 239.238437)scale(0.1 -0.1)\">\n       <use xlink:href=\"#DejaVuSans-48\"/>\n      </g>\n     </g>\n    </g>\n    <g id=\"xtick_4\">\n     <g id=\"line2d_4\">\n      <g>\n       <use style=\"stroke:#000000;stroke-width:0.8;\" x=\"273.233431\" xlink:href=\"#m70f0d83671\" y=\"224.64\"/>\n      </g>\n     </g>\n     <g id=\"text_4\">\n      <!-- 1 -->\n      <g transform=\"translate(270.052181 239.238437)scale(0.1 -0.1)\">\n       <use xlink:href=\"#DejaVuSans-49\"/>\n      </g>\n     </g>\n    </g>\n    <g id=\"xtick_5\">\n     <g id=\"line2d_5\">\n      <g>\n       <use style=\"stroke:#000000;stroke-width:0.8;\" x=\"339.245169\" xlink:href=\"#m70f0d83671\" y=\"224.64\"/>\n      </g>\n     </g>\n     <g id=\"text_5\">\n      <!-- 2 -->\n      <g transform=\"translate(336.063919 239.238437)scale(0.1 -0.1)\">\n       <use xlink:href=\"#DejaVuSans-50\"/>\n      </g>\n     </g>\n    </g>\n   </g>\n   <g id=\"matplotlib.axis_2\">\n    <g id=\"ytick_1\">\n     <g id=\"line2d_6\">\n      <defs>\n       <path d=\"M 0 0 \nL -3.5 0 \n\" id=\"m9332bc17f7\" style=\"stroke:#000000;stroke-width:0.8;\"/>\n      </defs>\n      <g>\n       <use style=\"stroke:#000000;stroke-width:0.8;\" x=\"28.942188\" xlink:href=\"#m9332bc17f7\" y=\"214.157185\"/>\n      </g>\n     </g>\n     <g id=\"text_6\">\n      <!-- −3 -->\n      <defs>\n       <path d=\"M 40.578125 39.3125 \nQ 47.65625 37.796875 51.625 33 \nQ 55.609375 28.21875 55.609375 21.1875 \nQ 55.609375 10.40625 48.1875 4.484375 \nQ 40.765625 -1.421875 27.09375 -1.421875 \nQ 22.515625 -1.421875 17.65625 -0.515625 \nQ 12.796875 0.390625 7.625 2.203125 \nL 7.625 11.71875 \nQ 11.71875 9.328125 16.59375 8.109375 \nQ 21.484375 6.890625 26.8125 6.890625 \nQ 36.078125 6.890625 40.9375 10.546875 \nQ 45.796875 14.203125 45.796875 21.1875 \nQ 45.796875 27.640625 41.28125 31.265625 \nQ 36.765625 34.90625 28.71875 34.90625 \nL 20.21875 34.90625 \nL 20.21875 43.015625 \nL 29.109375 43.015625 \nQ 36.375 43.015625 40.234375 45.921875 \nQ 44.09375 48.828125 44.09375 54.296875 \nQ 44.09375 59.90625 40.109375 62.90625 \nQ 36.140625 65.921875 28.71875 65.921875 \nQ 24.65625 65.921875 20.015625 65.03125 \nQ 15.375 64.15625 9.8125 62.3125 \nL 9.8125 71.09375 \nQ 15.4375 72.65625 20.34375 73.4375 \nQ 25.25 74.21875 29.59375 74.21875 \nQ 40.828125 74.21875 47.359375 69.109375 \nQ 53.90625 64.015625 53.90625 55.328125 \nQ 53.90625 49.265625 50.4375 45.09375 \nQ 46.96875 40.921875 40.578125 39.3125 \nz\n\" id=\"DejaVuSans-51\"/>\n      </defs>\n      <g transform=\"translate(7.2 217.956404)scale(0.1 -0.1)\">\n       <use xlink:href=\"#DejaVuSans-8722\"/>\n       <use x=\"83.789062\" xlink:href=\"#DejaVuSans-51\"/>\n      </g>\n     </g>\n    </g>\n    <g id=\"ytick_2\">\n     <g id=\"line2d_7\">\n      <g>\n       <use style=\"stroke:#000000;stroke-width:0.8;\" x=\"28.942188\" xlink:href=\"#m9332bc17f7\" y=\"169.390456\"/>\n      </g>\n     </g>\n     <g id=\"text_7\">\n      <!-- −2 -->\n      <g transform=\"translate(7.2 173.189675)scale(0.1 -0.1)\">\n       <use xlink:href=\"#DejaVuSans-8722\"/>\n       <use x=\"83.789062\" xlink:href=\"#DejaVuSans-50\"/>\n      </g>\n     </g>\n    </g>\n    <g id=\"ytick_3\">\n     <g id=\"line2d_8\">\n      <g>\n       <use style=\"stroke:#000000;stroke-width:0.8;\" x=\"28.942188\" xlink:href=\"#m9332bc17f7\" y=\"124.623727\"/>\n      </g>\n     </g>\n     <g id=\"text_8\">\n      <!-- −1 -->\n      <g transform=\"translate(7.2 128.422945)scale(0.1 -0.1)\">\n       <use xlink:href=\"#DejaVuSans-8722\"/>\n       <use x=\"83.789062\" xlink:href=\"#DejaVuSans-49\"/>\n      </g>\n     </g>\n    </g>\n    <g id=\"ytick_4\">\n     <g id=\"line2d_9\">\n      <g>\n       <use style=\"stroke:#000000;stroke-width:0.8;\" x=\"28.942188\" xlink:href=\"#m9332bc17f7\" y=\"79.856998\"/>\n      </g>\n     </g>\n     <g id=\"text_9\">\n      <!-- 0 -->\n      <g transform=\"translate(15.579688 83.656216)scale(0.1 -0.1)\">\n       <use xlink:href=\"#DejaVuSans-48\"/>\n      </g>\n     </g>\n    </g>\n    <g id=\"ytick_5\">\n     <g id=\"line2d_10\">\n      <g>\n       <use style=\"stroke:#000000;stroke-width:0.8;\" x=\"28.942188\" xlink:href=\"#m9332bc17f7\" y=\"35.090269\"/>\n      </g>\n     </g>\n     <g id=\"text_10\">\n      <!-- 1 -->\n      <g transform=\"translate(15.579688 38.889487)scale(0.1 -0.1)\">\n       <use xlink:href=\"#DejaVuSans-49\"/>\n      </g>\n     </g>\n    </g>\n   </g>\n   <g id=\"patch_3\">\n    <path d=\"M 28.942188 224.64 \nL 28.942188 7.2 \n\" style=\"fill:none;stroke:#000000;stroke-linecap:square;stroke-linejoin:miter;stroke-width:0.8;\"/>\n   </g>\n   <g id=\"patch_4\">\n    <path d=\"M 363.742188 224.64 \nL 363.742188 7.2 \n\" style=\"fill:none;stroke:#000000;stroke-linecap:square;stroke-linejoin:miter;stroke-width:0.8;\"/>\n   </g>\n   <g id=\"patch_5\">\n    <path d=\"M 28.942188 224.64 \nL 363.742188 224.64 \n\" style=\"fill:none;stroke:#000000;stroke-linecap:square;stroke-linejoin:miter;stroke-width:0.8;\"/>\n   </g>\n   <g id=\"patch_6\">\n    <path d=\"M 28.942188 7.2 \nL 363.742188 7.2 \n\" style=\"fill:none;stroke:#000000;stroke-linecap:square;stroke-linejoin:miter;stroke-width:0.8;\"/>\n   </g>\n  </g>\n </g>\n <defs>\n  <clipPath id=\"p5602ec7763\">\n   <rect height=\"217.44\" width=\"334.8\" x=\"28.942188\" y=\"7.2\"/>\n  </clipPath>\n </defs>\n</svg>\n",
      "image/png": "[encoded data removed]"
     },
     "metadata": {
      "needs_background": "light"
     }
    }
   ],
   "source": [
    "# synthetic classification dataset\n",
    "from numpy import where\n",
    "from sklearn.datasets import make_classification\n",
    "from matplotlib import pyplot\n",
    "# define dataset\n",
    "\n",
    "dataset = pd.read_csv(\"datasets/ballons/yellow-small+adult-stretch.data\")\n",
    "\n",
    "X, y = make_classification(n_samples=len(dataset.axes[0]), n_features=len(dataset.axes[1]), n_informative=2, n_redundant=0, n_clusters_per_class=1, random_state=4)\n",
    "# define the model\n",
    "\n",
    "# create scatter plot for samples from each class\n",
    "for class_value in range(2):\n",
    "\t# get row indexes for samples with this class\n",
    "\trow_ix = where(y == class_value)\n",
    "\t# create scatter of these samples\n",
    "\tpyplot.scatter(X[row_ix, 0], X[row_ix, 1])\n",
    "# show the plot\n",
    "pyplot.show()"
   ]
  },
  {
   "cell_type": "code",
   "execution_count": 5,
   "metadata": {},
   "outputs": [],
   "source": [
    "import numpy as np\n",
    "import pandas as pd\n",
    "from scipy.spatial import distance\n",
    "import matplotlib.pyplot as plt\n",
    "from sklearn.preprocessing import StandardScaler"
   ]
  },
  {
   "cell_type": "code",
   "execution_count": 16,
   "metadata": {},
   "outputs": [
    {
     "output_type": "execute_result",
     "data": {
      "text/plain": [
       "<bound method NDFrame.describe of        1  1.52101  13.64  4.49  1.10  71.78  0.06  8.75  0.00  0.00.1  1.1\n",
       "0      2  1.51761  13.89  3.60  1.36  72.73  0.48  7.83  0.00    0.00    1\n",
       "1      3  1.51618  13.53  3.55  1.54  72.99  0.39  7.78  0.00    0.00    1\n",
       "2      4  1.51766  13.21  3.69  1.29  72.61  0.57  8.22  0.00    0.00    1\n",
       "3      5  1.51742  13.27  3.62  1.24  73.08  0.55  8.07  0.00    0.00    1\n",
       "4      6  1.51596  12.79  3.61  1.62  72.97  0.64  8.07  0.00    0.26    1\n",
       "..   ...      ...    ...   ...   ...    ...   ...   ...   ...     ...  ...\n",
       "208  211  1.51685  14.92  0.00  1.99  73.06  0.00  8.40  1.59    0.00    7\n",
       "209  212  1.52065  14.36  0.00  2.02  73.42  0.00  8.44  1.64    0.00    7\n",
       "210  213  1.51651  14.38  0.00  1.94  73.61  0.00  8.48  1.57    0.00    7\n",
       "211  214  1.51711  14.23  0.00  2.08  73.36  0.00  8.62  1.67    0.00    7\n",
       "212  146  1.51839  12.85  3.67  1.24  72.57  0.62  8.68  0.00    0.35    2\n",
       "\n",
       "[213 rows x 11 columns]>"
      ]
     },
     "metadata": {},
     "execution_count": 16
    }
   ],
   "source": [
    "dataset = pd.read_csv(\"datasets/glass/glass.data\")\n",
    "dataset.describe"
   ]
  },
  {
   "cell_type": "code",
   "execution_count": 7,
   "metadata": {},
   "outputs": [],
   "source": [
    "def kmeans(X,k,max_iterations=100):\n",
    "    '''\n",
    "    X: multidimensional data\n",
    "    k: number of clusters\n",
    "    max_iterations: number of repetitions before clusters are established\n",
    "    \n",
    "    Steps:\n",
    "    1. Convert data to numpy aray\n",
    "    2. Pick indices of k random point without replacement\n",
    "    3. Find class (P) of each data point using euclidean distance\n",
    "    4. Stop when max_iteration are reached of P matrix doesn't change\n",
    "    \n",
    "    Return:\n",
    "    np.array: containg class of each data point\n",
    "    '''\n",
    "    if isinstance(X, pd.DataFrame):X = X.values\n",
    "    idx = np.random.choice(len(X), k, replace=False)\n",
    "    centroids = X[idx, :]\n",
    "    P = np.argmin(distance.cdist(X, centroids, 'euclidean'),axis=1)\n",
    "    for _ in range(max_iterations):\n",
    "        centroids = np.vstack([X[P==i,:].mean(axis=0) for i in range(k)])\n",
    "        tmp = np.argmin(distance.cdist(X, centroids, 'euclidean'),axis=1)\n",
    "        if np.array_equal(P,tmp):break\n",
    "        P = tmp\n",
    "    return P"
   ]
  },
  {
   "cell_type": "code",
   "execution_count": 17,
   "metadata": {},
   "outputs": [],
   "source": [
    "P = kmeans(dataset, dataset.iloc[:, -1].nunique(dropna=False))\n"
   ]
  },
  {
   "cell_type": "code",
   "execution_count": 12,
   "metadata": {},
   "outputs": [
    {
     "output_type": "error",
     "ename": "IndexError",
     "evalue": "too many indices for array",
     "traceback": [
      "\u001b[0;31m---------------------------------------------------------------------------\u001b[0m",
      "\u001b[0;31mIndexError\u001b[0m                                Traceback (most recent call last)",
      "\u001b[0;32m<ipython-input-12-6133e4a0f8d7>\u001b[0m in \u001b[0;36m<module>\u001b[0;34m\u001b[0m\n\u001b[0;32m----> 1\u001b[0;31m \u001b[0mplt\u001b[0m\u001b[0;34m.\u001b[0m\u001b[0mscatter\u001b[0m\u001b[0;34m(\u001b[0m\u001b[0mP\u001b[0m\u001b[0;34m[\u001b[0m\u001b[0;34m:\u001b[0m\u001b[0;34m,\u001b[0m \u001b[0;36m0\u001b[0m\u001b[0;34m]\u001b[0m\u001b[0;34m,\u001b[0m \u001b[0mP\u001b[0m\u001b[0;34m[\u001b[0m\u001b[0;34m:\u001b[0m\u001b[0;34m,\u001b[0m \u001b[0;36m1\u001b[0m\u001b[0;34m]\u001b[0m\u001b[0;34m,\u001b[0m \u001b[0mc\u001b[0m\u001b[0;34m=\u001b[0m\u001b[0;34m'black'\u001b[0m\u001b[0;34m,\u001b[0m \u001b[0ms\u001b[0m\u001b[0;34m=\u001b[0m\u001b[0;36m200\u001b[0m\u001b[0;34m,\u001b[0m \u001b[0malpha\u001b[0m\u001b[0;34m=\u001b[0m\u001b[0;36m0.5\u001b[0m\u001b[0;34m)\u001b[0m\u001b[0;34m;\u001b[0m\u001b[0;34m\u001b[0m\u001b[0;34m\u001b[0m\u001b[0m\n\u001b[0m",
      "\u001b[0;31mIndexError\u001b[0m: too many indices for array"
     ]
    }
   ],
   "source": [
    "plt.scatter(P[:, 0], P[:, 1], c='black', s=200, alpha=0.5);"
   ]
  },
  {
   "cell_type": "code",
   "execution_count": 18,
   "metadata": {},
   "outputs": [
    {
     "output_type": "execute_result",
     "data": {
      "text/plain": [
       "array([4, 4, 4, 4, 4, 4, 4, 4, 4, 4, 4, 4, 4, 4, 4, 4, 4, 4, 4, 4, 4, 4,\n",
       "       4, 4, 4, 4, 4, 4, 4, 4, 4, 4, 4, 4, 3, 3, 3, 3, 3, 3, 3, 3, 3, 3,\n",
       "       3, 3, 3, 3, 3, 3, 3, 3, 3, 3, 3, 3, 3, 3, 3, 3, 3, 3, 3, 3, 3, 3,\n",
       "       3, 2, 2, 2, 2, 2, 2, 2, 2, 2, 2, 2, 2, 2, 2, 2, 2, 2, 2, 2, 2, 2,\n",
       "       2, 2, 2, 2, 2, 2, 2, 2, 2, 2, 2, 2, 2, 0, 0, 0, 0, 0, 0, 0, 0, 0,\n",
       "       0, 0, 0, 0, 0, 0, 0, 0, 0, 0, 0, 0, 0, 0, 0, 0, 0, 0, 0, 0, 0, 0,\n",
       "       0, 0, 0, 0, 0, 1, 1, 1, 1, 1, 1, 1, 1, 1, 1, 1, 1, 1, 1, 1, 1, 1,\n",
       "       1, 1, 1, 1, 1, 1, 1, 1, 1, 1, 1, 1, 1, 1, 1, 1, 1, 1, 1, 5, 5, 5,\n",
       "       5, 5, 5, 5, 5, 5, 5, 5, 5, 5, 5, 5, 5, 5, 5, 5, 5, 5, 5, 5, 5, 5,\n",
       "       5, 5, 5, 5, 5, 5, 5, 5, 5, 5, 5, 5, 5, 5, 1])"
      ]
     },
     "metadata": {},
     "execution_count": 18
    }
   ],
   "source": [
    "P"
   ]
  },
  {
   "cell_type": "code",
   "execution_count": 20,
   "metadata": {},
   "outputs": [],
   "source": [
    "import numpy as np\n",
    "import matplotlib.pyplot as plt\n",
    "from sklearn.cluster import KMeans\n",
    "from scipy.spatial.distance import cdist\n",
    "# composing data set\n",
    "dataset = pd.read_csv(\"datasets/glass/glass.data\")\n",
    "\n",
    "# kmeans model, setting k = 3\n",
    "km = KMeans(n_clusters = countUniqueLabels(\"datasets/glass/glass.data\"))\n",
    "clusters=km.fit_predict(dataset)\n",
    "# plotting data set\n",
    "#plt.scatter(*zip(*dataset),c=clusters,marker = \"x\")"
   ]
  },
  {
   "cell_type": "code",
   "execution_count": 21,
   "metadata": {},
   "outputs": [
    {
     "output_type": "stream",
     "name": "stdout",
     "text": [
      "11\n11\n11\n11\n11\n11\n"
     ]
    }
   ],
   "source": [
    "# obtaining the centers of the clusters\n",
    "centroids = km.cluster_centers_\n",
    "# points array will be used to reach the index easy\n",
    "points = np.empty((0,len(dataset.axes[1])), float)\n",
    "# distances will be used to calculseetate outliers\n",
    "distances = np.empty((0,len(dataset.axes[0])), float)\n",
    "# getting points and distances\n",
    "for i, center_elem in enumerate(centroids):\n",
    "    print(len(center_elem))\n",
    "    # cdist is used to calculate the distance between center and other points\n",
    "    distances = np.append(distances, cdist([center_elem],dataset[clusters == i],'euclidean')) \n",
    "    points = np.append(points, dataset[clusters == i], axis=0)\n",
    "\n",
    "\n",
    "percentile = 98\n",
    "# getting outliers whose distances are greater than some percentile\n",
    "outliers = points[np.where(distances > np.percentile(distances, percentile))]"
   ]
  },
  {
   "cell_type": "code",
   "execution_count": 131,
   "metadata": {},
   "outputs": [],
   "source": [
    "cluster_distance_d = {'cluster':clusters, 'distance':distances}\n",
    "cluster_distance = pd.DataFrame(cluster_distance_d)\n",
    "\n",
    "#result = pd.concat([mean, std_dev], axis=1)\n",
    "#std_dev = cluster_distance.groupby(['cluster'], as_index = False).std()\n",
    "#mean = cluster_distance.groupby(['cluster'],as_index = False).mean()\n",
    "\n",
    "grouped = cluster_distance.groupby(['cluster'], as_index = False)\n",
    "cluster_statistics = grouped[['distance']].agg([np.mean, np.std])"
   ]
  },
  {
   "cell_type": "code",
   "execution_count": 133,
   "metadata": {},
   "outputs": [
    {
     "output_type": "stream",
     "name": "stdout",
     "text": [
      "    cluster  distance\n0  0.000000  5.039166\n1  1.000000  5.129233\n2  1.414214  5.134618\n3  1.732051  5.230356\n4  2.000000  4.991237\n5  2.236068  5.162776\n"
     ]
    },
    {
     "output_type": "execute_result",
     "data": {
      "text/plain": [
       "   cluster  distance   cluster  distance\n",
       "0        0  9.013651  0.000000  5.039166\n",
       "1        1  8.961904  1.000000  5.129233\n",
       "2        2  9.441204  1.414214  5.134618\n",
       "3        3  9.667232  1.732051  5.230356\n",
       "4        4  8.631569  2.000000  4.991237\n",
       "5        5  9.369165  2.236068  5.162776"
      ],
      "text/html": "<div>\n<style scoped>\n    .dataframe tbody tr th:only-of-type {\n        vertical-align: middle;\n    }\n\n    .dataframe tbody tr th {\n        vertical-align: top;\n    }\n\n    .dataframe thead th {\n        text-align: right;\n    }\n</style>\n<table border=\"1\" class=\"dataframe\">\n  <thead>\n    <tr style=\"text-align: right;\">\n      <th></th>\n      <th>cluster</th>\n      <th>distance</th>\n      <th>cluster</th>\n      <th>distance</th>\n    </tr>\n  </thead>\n  <tbody>\n    <tr>\n      <th>0</th>\n      <td>0</td>\n      <td>9.013651</td>\n      <td>0.000000</td>\n      <td>5.039166</td>\n    </tr>\n    <tr>\n      <th>1</th>\n      <td>1</td>\n      <td>8.961904</td>\n      <td>1.000000</td>\n      <td>5.129233</td>\n    </tr>\n    <tr>\n      <th>2</th>\n      <td>2</td>\n      <td>9.441204</td>\n      <td>1.414214</td>\n      <td>5.134618</td>\n    </tr>\n    <tr>\n      <th>3</th>\n      <td>3</td>\n      <td>9.667232</td>\n      <td>1.732051</td>\n      <td>5.230356</td>\n    </tr>\n    <tr>\n      <th>4</th>\n      <td>4</td>\n      <td>8.631569</td>\n      <td>2.000000</td>\n      <td>4.991237</td>\n    </tr>\n    <tr>\n      <th>5</th>\n      <td>5</td>\n      <td>9.369165</td>\n      <td>2.236068</td>\n      <td>5.162776</td>\n    </tr>\n  </tbody>\n</table>\n</div>"
     },
     "metadata": {},
     "execution_count": 133
    }
   ],
   "source": [
    "print(std_dev)\n",
    "pd.concat([mean,std_dev], axis = 1)"
   ]
  },
  {
   "cell_type": "code",
   "execution_count": 140,
   "metadata": {},
   "outputs": [
    {
     "output_type": "execute_result",
     "data": {
      "text/plain": [
       "0"
      ]
     },
     "metadata": {},
     "execution_count": 140
    }
   ],
   "source": [
    "cluster_statistics.index[0]"
   ]
  },
  {
   "cell_type": "code",
   "execution_count": 116,
   "metadata": {},
   "outputs": [
    {
     "output_type": "execute_result",
     "data": {
      "text/plain": [
       "(213,)"
      ]
     },
     "metadata": {},
     "execution_count": 116
    }
   ],
   "source": [
    "https://www.sciencedirect.com/science/article/pii/S1319157821001701"
   ]
  },
  {
   "cell_type": "code",
   "execution_count": 142,
   "metadata": {},
   "outputs": [
    {
     "output_type": "execute_result",
     "data": {
      "text/plain": [
       "range(0, 6)"
      ]
     },
     "metadata": {},
     "execution_count": 142
    }
   ],
   "source": [
    "range(len(cluster_statistics))"
   ]
  },
  {
   "cell_type": "code",
   "execution_count": 180,
   "metadata": {
    "tags": []
   },
   "outputs": [
    {
     "output_type": "stream",
     "name": "stdout",
     "text": [
      "213\n0\n"
     ]
    }
   ],
   "source": [
    "m = 0\n",
    "s = 0 \n",
    "count = 0\n",
    "outlier = 0\n",
    "for i in range(len(cluster_distance)):#\n",
    "    for j in range(len(cluster_statistics)):\n",
    "        if(cluster_statistics.index[j]==cluster_distance.iloc[i,0]):\n",
    "            m = cluster_statistics.iloc[j,0]\n",
    "            s =cluster_statistics.iloc[j,1]\n",
    "            flag=1\n",
    "            break\n",
    "    if(flag==1):\n",
    "            if(cluster_distance.iloc[i,1] > (m + 3 * s)):\n",
    "                outlier+=1\n",
    "                for k in range(len(cluster_statistics)):\n",
    "                    if(cluster_statistics.index[k]!=cluster_distance.iloc[i,0]):\n",
    "                        dist = cdist(points[i], centroids[k], 'euclidean')\n",
    "                        m1 = cluster_statistics.iloc[k,0]\n",
    "                        s1 = cluster_statistics.iloc[k,1]\n",
    "                        if(dist <= (m1 + 3 * s1)):\n",
    "                            count+=1\n",
    "\n",
    "print(count)\n",
    "print(outlier)\n"
   ]
  },
  {
   "cell_type": "code",
   "execution_count": 161,
   "metadata": {},
   "outputs": [
    {
     "output_type": "execute_result",
     "data": {
      "text/plain": [
       "array([8.85000000e+01, 1.51729167e+00, 1.31244444e+01, 3.29222222e+00,\n",
       "       1.47611111e+00, 7.27400000e+01, 5.58611111e-01, 8.55472222e+00,\n",
       "       6.94444444e-03, 6.72222222e-02, 2.00000000e+00])"
      ]
     },
     "metadata": {},
     "execution_count": 161
    }
   ],
   "source": [
    "  "
   ]
  },
  {
   "cell_type": "code",
   "execution_count": 37,
   "metadata": {},
   "outputs": [
    {
     "output_type": "error",
     "ename": "NameError",
     "evalue": "name 'cluster_distance' is not defined",
     "traceback": [
      "\u001b[0;31m---------------------------------------------------------------------------\u001b[0m",
      "\u001b[0;31mNameError\u001b[0m                                 Traceback (most recent call last)",
      "\u001b[0;32m<ipython-input-37-c942dea24fad>\u001b[0m in \u001b[0;36m<module>\u001b[0;34m\u001b[0m\n\u001b[0;32m----> 1\u001b[0;31m \u001b[0mcluster_distance\u001b[0m \u001b[0;34m<\u001b[0m\u001b[0;34m-\u001b[0m \u001b[0mpd\u001b[0m\u001b[0;34m.\u001b[0m\u001b[0mconcat\u001b[0m\u001b[0;34m(\u001b[0m\u001b[0mclusters\u001b[0m\u001b[0;34m,\u001b[0m \u001b[0mdistances\u001b[0m\u001b[0;34m,\u001b[0m \u001b[0maxis\u001b[0m\u001b[0;34m=\u001b[0m\u001b[0;36m1\u001b[0m\u001b[0;34m)\u001b[0m\u001b[0;34m\u001b[0m\u001b[0;34m\u001b[0m\u001b[0m\n\u001b[0m",
      "\u001b[0;31mNameError\u001b[0m: name 'cluster_distance' is not defined"
     ]
    }
   ],
   "source": [
    "cluster_distance <- pd.concat(clusters, distances, axis=1) "
   ]
  },
  {
   "cell_type": "code",
   "execution_count": 38,
   "metadata": {},
   "outputs": [
    {
     "output_type": "execute_result",
     "data": {
      "text/plain": [
       "array([[1.61500000e+02, 1.51833972e+00, 1.32300000e+01, 2.43500000e+00,\n",
       "        1.54138889e+00, 7.24280556e+01, 7.74444444e-01, 9.31083333e+00,\n",
       "        7.19444444e-02, 6.52777778e-02, 3.88888889e+00],\n",
       "       [5.30000000e+01, 1.51967771e+00, 1.33611429e+01, 3.50400000e+00,\n",
       "        1.05200000e+00, 7.23842857e+01, 3.75142857e-01, 9.14485714e+00,\n",
       "        2.28571429e-02, 6.54285714e-02, 1.00000000e+00],\n",
       "       [1.25000000e+02, 1.52001162e+00, 1.31127027e+01, 2.68432432e+00,\n",
       "        1.34108108e+00, 7.24472973e+01, 4.76486486e-01, 9.62054054e+00,\n",
       "        9.64864865e-02, 8.24324324e-02, 2.00000000e+00],\n",
       "       [8.85000000e+01, 1.51729167e+00, 1.31244444e+01, 3.29222222e+00,\n",
       "        1.47611111e+00, 7.27400000e+01, 5.58611111e-01, 8.55472222e+00,\n",
       "        6.94444444e-03, 6.72222222e-02, 2.00000000e+00],\n",
       "       [1.85000000e+01, 1.51766324e+00, 1.31082353e+01, 3.57470588e+00,\n",
       "        1.28088235e+00, 7.28855882e+01, 5.33235294e-01, 8.44088235e+00,\n",
       "        2.64705882e-03, 5.00000000e-02, 1.00000000e+00],\n",
       "       [1.97000000e+02, 1.51705029e+00, 1.45254286e+01, 5.80571429e-01,\n",
       "        1.98542857e+00, 7.30674286e+01, 2.69428571e-01, 8.62457143e+00,\n",
       "        8.61714286e-01, 1.11428571e-02, 6.82857143e+00]])"
      ]
     },
     "metadata": {},
     "execution_count": 38
    }
   ],
   "source": [
    "(centroids)"
   ]
  },
  {
   "cell_type": "code",
   "execution_count": 87,
   "metadata": {},
   "outputs": [],
   "source": [
    "# composing data set\n",
    "data = np.array([[1, 2,2], [2,2,2], [2,3, 3], [8,1, 7], [8, 9,1], [7, 9,1], [7, 7,2], [12,10,2], [25, 24,1], [24, 24,3], [24, 25,2], [25, 25,1], [25,20,1], [20,25,3]])\n",
    "# kmeans model, setting k = 3\n",
    "km = KMeans(n_clusters = 2)\n",
    "clusters=km.fit_predict(data)\n",
    "# plotting data set\n",
    "#plt.scatter(*zip(*data),c=clusters,marker = \"x\")\n",
    "# obtaining the centers of the clusters\n",
    "centroids = km.cluster_centers_\n",
    "# points array will be used to reach the index easy\n",
    "points = np.empty((0,len(data[0])), float)\n",
    "# distances will be used to calculate outliers\n",
    "distances = np.empty((0,len(data[0])), float)\n",
    "# getting points and distances\n",
    "for i, center_elem in enumerate(centroids):\n",
    "    # cdist is used to calculate the distance between center and other points\n",
    "    distances = np.append(distances, cdist([center_elem],data[clusters == i], 'euclidean')) \n",
    "    points = np.append(points, data[clusters == i], axis=0)"
   ]
  },
  {
   "cell_type": "code",
   "execution_count": 81,
   "metadata": {},
   "outputs": [
    {
     "output_type": "execute_result",
     "data": {
      "text/plain": [
       "array([[ 5.875     ,  5.375     ,  2.5       ],\n",
       "       [23.83333333, 23.83333333,  1.83333333]])"
      ]
     },
     "metadata": {},
     "execution_count": 81
    }
   ],
   "source": [
    "centroids"
   ]
  },
  {
   "cell_type": "code",
   "execution_count": 97,
   "metadata": {},
   "outputs": [
    {
     "output_type": "execute_result",
     "data": {
      "text/plain": [
       "array([17.01554954, 16.02638999, 15.03654525, 14.06386654, 13.06875441,\n",
       "       12.04006913, 11.06454649, 10.03060927,  9.0636635 ,  8.06266169,\n",
       "        7.02502318,  6.02684872,  5.17664113,  4.14107296,  3.04992025,\n",
       "        2.40827497,  1.07791947,  0.8258268 ,  1.34151319,  2.22506297,\n",
       "        3.51009115,  4.15337811,  5.1171145 ,  6.14365647,  7.0721054 ,\n",
       "        8.02168769,  9.08076516, 10.03550554, 11.10559948, 12.02031626,\n",
       "       13.01734976, 14.02573367, 15.02326023, 16.01896829, 17.03923359,\n",
       "       17.1472777 , 16.19656087, 15.12932157, 14.25429462, 13.40814583,\n",
       "       12.88726047, 11.88363571, 10.98415408,  9.57911325,  8.7706131 ,\n",
       "        7.76359783,  6.16514187,  5.08123805,  4.20932533,  3.16796812,\n",
       "        2.23738093,  1.54940319,  1.32903882,  1.33684031,  2.27003194,\n",
       "        3.17446824,  4.14982514,  6.62107151,  6.10780437,  7.09610512,\n",
       "        8.04975474,  9.06276759, 10.04474273, 11.46611832, 12.07745052,\n",
       "       13.07319132, 14.04192871, 15.0410054 , 16.03992935, 17.03743917,\n",
       "       19.16576127, 18.58852762, 16.39712813, 15.46977309, 15.28068499,\n",
       "       14.49440296, 13.23234055, 11.15622268, 10.15503577,  9.18482283,\n",
       "        8.20031234,  7.33501163,  6.29311189,  5.36669099,  4.31818596,\n",
       "        3.56207403,  2.69343388,  2.14587183,  1.53572884,  1.79016065,\n",
       "        2.45957276,  3.14572787,  4.09478685,  5.38492069,  6.45154189,\n",
       "        8.52575162,  8.24600124,  9.23914099, 10.18796488, 11.13313594,\n",
       "       12.135485  , 13.1360582 , 14.16633821, 15.13604264, 16.09967624,\n",
       "       17.07640873, 18.08539783, 17.67456889, 16.64768881, 14.62793146,\n",
       "       13.61490748, 12.61900036, 11.67361169, 10.63211948,  9.81749053,\n",
       "        8.74477246,  7.69445039,  6.69943591,  5.74748533,  4.75485816,\n",
       "        4.16330371,  2.92409073,  2.12440992,  1.4527505 ,  1.92251615,\n",
       "        2.78096974,  5.9685118 ,  3.85926032,  5.4108272 ,  6.57678321,\n",
       "        7.52402502,  8.15646868,  9.16320892, 10.31012482, 12.59284695,\n",
       "       13.41127342, 13.18581601, 13.6067616 , 14.87327966, 15.68380697,\n",
       "       16.67557234, 17.68835746, 15.68778366, 17.65843976, 16.54145984,\n",
       "       15.52461217, 14.52061997, 13.5252679 , 12.52456784, 11.52680878,\n",
       "       10.5182048 ,  9.56160663,  8.54121672,  7.56019434,  6.55496247,\n",
       "        5.53896136,  4.53822403,  4.07511175,  2.55423047,  1.69540893,\n",
       "        0.78355927,  0.72391229,  1.80042239,  2.65107821,  3.53906758,\n",
       "        4.56356035,  5.52632887,  6.54454046,  7.52103565,  8.54669326,\n",
       "        9.59246018, 10.53262593, 11.51091794, 12.52826487, 13.55353615,\n",
       "       14.59999957, 15.99544353, 16.7557035 , 18.50534121, 16.53090383,\n",
       "       15.52309024, 14.50525175, 13.50770256, 12.51669716, 11.50769815,\n",
       "       10.51076195,  9.58113779,  8.50212598,  7.53449264,  6.51068617,\n",
       "        5.54132251,  4.52054841,  3.55964294,  2.54472562,  1.60716565,\n",
       "        2.24168526,  1.3876158 ,  1.56557611,  2.53411064,  4.16433069,\n",
       "        4.5212699 ,  5.51308275,  6.50780792,  7.50398868,  8.50600717,\n",
       "        9.50501566, 10.51947657, 11.5007828 , 12.51296994, 13.50963661,\n",
       "       14.50489508, 15.5187431 , 16.50857903])"
      ]
     },
     "metadata": {},
     "execution_count": 97
    }
   ],
   "source": [
    "distances"
   ]
  },
  {
   "cell_type": "code",
   "execution_count": 117,
   "metadata": {},
   "outputs": [],
   "source": [
    "df = pd.DataFrame({'Animal': ['Falcon', 'Falcon',\n",
    "                              'Parrot', 'Parrot'],\n",
    "                   'Max Speed': [380., 370., 24., 26.]})\n",
    "df1 = df.groupby(['Animal'], ).mean()"
   ]
  },
  {
   "cell_type": "code",
   "execution_count": 120,
   "metadata": {},
   "outputs": [
    {
     "output_type": "execute_result",
     "data": {
      "text/plain": [
       "'Falcon'"
      ]
     },
     "metadata": {},
     "execution_count": 120
    }
   ],
   "source": [
    "df1.iloc[0,0]"
   ]
  },
  {
   "cell_type": "code",
   "execution_count": null,
   "metadata": {},
   "outputs": [],
   "source": []
  }
 ]
}