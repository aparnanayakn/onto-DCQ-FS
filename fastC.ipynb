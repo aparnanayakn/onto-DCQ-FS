{
 "cells": [
  {
   "cell_type": "code",
   "execution_count": 13,
   "metadata": {},
   "outputs": [],
   "source": []
  },
  {
   "cell_type": "code",
   "execution_count": 1,
   "metadata": {},
   "outputs": [],
   "source": [
    "\n",
    "import sys\n",
    "import os\n",
    "import argparse\n",
    "import numpy as np\n"
   ]
  },
  {
   "cell_type": "code",
   "execution_count": 2,
   "metadata": {},
   "outputs": [],
   "source": [
    "def entropy(vec, base=2):\n",
    "    \" Returns the empirical entropy H(X) in the input vector.\"\n",
    "    _, vec = np.unique(vec, return_counts=True)\n",
    "    prob_vec = np.array(vec/float(sum(vec)))\n",
    "    if base == 2:\n",
    "        logfn = np.log2\n",
    "    elif base == 10:\n",
    "        logfn = np.log10\n",
    "    else:\n",
    "        logfn = np.log\n",
    "    return prob_vec.dot(-logfn(prob_vec))"
   ]
  },
  {
   "cell_type": "code",
   "execution_count": 3,
   "metadata": {},
   "outputs": [],
   "source": [
    "def conditional_entropy(x, y):\n",
    "    \"Returns H(X|Y).\"\n",
    "    uy, uyc = np.unique(y, return_counts=True)\n",
    "    prob_uyc = uyc/float(sum(uyc))\n",
    "    cond_entropy_x = np.array([entropy(x[y == v]) for v in uy])\n",
    "    return prob_uyc.dot(cond_entropy_x)"
   ]
  },
  {
   "cell_type": "code",
   "execution_count": 4,
   "metadata": {},
   "outputs": [],
   "source": [
    "def mutual_information(x, y):\n",
    "    \" Returns the information gain/mutual information [H(X)-H(X|Y)] between two random vars x & y.\"\n",
    "    return entropy(x) - conditional_entropy(x, y)"
   ]
  },
  {
   "cell_type": "code",
   "execution_count": 5,
   "metadata": {},
   "outputs": [],
   "source": [
    "def symmetrical_uncertainty(x, y):\n",
    "    \" Returns 'symmetrical uncertainty' (SU) - a symmetric mutual information measure.\"\n",
    "    return 2.0*mutual_information(x, y)/(entropy(x) + entropy(y))"
   ]
  },
  {
   "cell_type": "code",
   "execution_count": 6,
   "metadata": {},
   "outputs": [],
   "source": [
    "def getFirstElement(d):\n",
    "\t\"\"\"\n",
    "\tReturns tuple corresponding to first 'unconsidered' feature\n",
    "\t\n",
    "\tParameters:\n",
    "\t----------\n",
    "\td : ndarray\n",
    "\t\tA 2-d array with SU, original feature index and flag as columns.\n",
    "\t\n",
    "\tReturns:\n",
    "\t-------\n",
    "\ta, b, c : tuple\n",
    "\t\ta - SU value, b - original feature index, c - index of next 'unconsidered' feature\n",
    "\t\"\"\"\n",
    "\n",
    "\tt = np.where(d[:, 2] > 0)[0]\n",
    "\tif len(t):\n",
    "\t\treturn d[t[0], 0], d[t[0], 1], t[0]\n",
    "\treturn None, None, None"
   ]
  },
  {
   "cell_type": "code",
   "execution_count": 7,
   "metadata": {},
   "outputs": [],
   "source": [
    "def getNextElement(d, idx):\n",
    "\t\"\"\"\n",
    "\tReturns tuple corresponding to the next 'unconsidered' feature.\n",
    "\t\n",
    "\tParameters:\n",
    "\t-----------\n",
    "\td : ndarray\n",
    "\t\tA 2-d array with SU, original feature index and flag as columns.\n",
    "\tidx : int\n",
    "\t\tRepresents original index of a feature whose next element is required.\n",
    "\t\t\n",
    "\tReturns:\n",
    "\t--------\n",
    "\ta, b, c : tuple\n",
    "\t\ta - SU value, b - original feature index, c - index of next 'unconsidered' feature\n",
    "\t\"\"\"\n",
    "\tt = np.where(d[:, 2] > 0)[0]\n",
    "\tt = t[t > idx]\n",
    "\tif len(t):\n",
    "\t\treturn d[t[0], 0], d[t[0], 1], t[0]\n",
    "\treturn None, None, None"
   ]
  },
  {
   "cell_type": "code",
   "execution_count": 8,
   "metadata": {},
   "outputs": [],
   "source": [
    "def removeElement(d, idx):\n",
    "\t\"\"\"\n",
    "\tReturns data with requested feature removed.\n",
    "\t\n",
    "\tParameters:\n",
    "\t-----------\n",
    "\td : ndarray\n",
    "\t\tA 2-d array with SU, original feature index and flag as columns.\n",
    "\tidx : int\n",
    "\t\tRepresents original index of a feature which needs to be removed.\n",
    "\t\t\n",
    "\tReturns:\n",
    "\t--------\n",
    "\td : ndarray\n",
    "\t\tSame as input, except with specific feature removed.\n",
    "\t\"\"\"\n",
    "\td[idx, 2] = 0\n",
    "\treturn d"
   ]
  },
  {
   "cell_type": "code",
   "execution_count": 9,
   "metadata": {},
   "outputs": [],
   "source": [
    "def c_correlation(X, y):\n",
    "    su = np.zeros(X.shape[1])\n",
    "    for i in np.arange(X.shape[1]):\n",
    "        su[i] = symmetrical_uncertainty(X.iloc[:, i], y)\n",
    "    return su"
   ]
  },
  {
   "cell_type": "code",
   "execution_count": 10,
   "metadata": {},
   "outputs": [],
   "source": [
    "def fcbf(X, y, thresh):\n",
    "\t\"\"\"\n",
    "\tPerform Fast Correlation-Based Filter solution (FCBF).\n",
    "\t\n",
    "\tParameters:\n",
    "\t-----------\n",
    "\tX : 2-D ndarray\n",
    "\t\tFeature matrix\n",
    "\ty : ndarray\n",
    "\t\tClass label vector\n",
    "\tthresh : float\n",
    "\t\tA value in [0,1) used as threshold for selecting 'relevant' features. \n",
    "\t\tA negative value suggest the use of minimum SU[i,c] value as threshold.\n",
    "\t\n",
    "\tReturns:\n",
    "\t--------\n",
    "\tsbest : 2-D ndarray\n",
    "\t\tAn array containing SU[i,c] values and feature index i.\n",
    "\t\"\"\"\n",
    "\tn = X.shape[1]\n",
    "\tslist = np.zeros((n, 3))\n",
    "\tslist[:, -1] = 1\n",
    "\n",
    "\t# identify relevant features\n",
    "\tslist[:, 0] = c_correlation(X, y)  # compute 'C-correlation'\n",
    "\tidx = slist[:, 0].argsort()[::-1]\n",
    "\tslist = slist[idx, ]\n",
    "\tslist[:, 1] = idx\n",
    "\tif thresh < 0:\n",
    "\t\tthresh = np.median(slist[-1, 0])\n",
    "\t\tprint(\"Using minimum SU value as default threshold: {0}\".format(thresh))\n",
    "\telif thresh >= 1 or thresh > max(slist[:, 0]):\n",
    "\t\tprint(\"No relevant features selected for given threshold.\")\n",
    "\t\tprint(\"Please lower the threshold and try again.\")\n",
    "\t\texit()\n",
    "\n",
    "\tslist = slist[slist[:, 0] > thresh, :]  # desc. ordered per SU[i,c]\n",
    "\n",
    "\t# identify redundant features among the relevant ones\n",
    "\tcache = {}\n",
    "\tm = len(slist)\n",
    "\tp_su, p, p_idx = getFirstElement(slist)\n",
    "\tfor i in range(m):\n",
    "\t\tp = int(p)\n",
    "\t\tq_su, q, q_idx = getNextElement(slist, p_idx)\n",
    "\t\tif q:\n",
    "\t\t\twhile q:\n",
    "\t\t\t\tq = int(q)\n",
    "\t\t\t\tif (p, q) in cache:\n",
    "\t\t\t\t\tpq_su = cache[(p, q)]\n",
    "\t\t\t\telse:\n",
    "\t\t\t\t\tpq_su = symmetrical_uncertainty(X.iloc[:, p], X.iloc[:, q])\n",
    "\t\t\t\t\tcache[(p, q)] = pq_su\n",
    "\n",
    "\t\t\t\tif pq_su >= q_su:\n",
    "\t\t\t\t\tslist = removeElement(slist, q_idx)\n",
    "\t\t\t\tq_su, q, q_idx = getNextElement(slist, q_idx)\n",
    "\n",
    "\t\tp_su, p, p_idx = getNextElement(slist, p_idx)\n",
    "\t\tif not p_idx:\n",
    "\t\t\tbreak\n",
    "\n",
    "\tsbest = slist[slist[:, 2] > 0, :2]\n",
    "\treturn sbest\n"
   ]
  },
  {
   "cell_type": "code",
   "execution_count": 12,
   "metadata": {},
   "outputs": [
    {
     "output_type": "stream",
     "name": "stdout",
     "text": [
      "[[0.33477065 6.        ]\n [0.32114068 0.        ]]\n"
     ]
    }
   ],
   "source": []
  },
  {
   "cell_type": "code",
   "execution_count": 9,
   "metadata": {},
   "outputs": [],
   "source": [
    "\n"
   ]
  },
  {
   "cell_type": "code",
   "execution_count": null,
   "metadata": {},
   "outputs": [],
   "source": []
  },
  {
   "cell_type": "code",
   "execution_count": null,
   "metadata": {},
   "outputs": [],
   "source": []
  },
  {
   "cell_type": "code",
   "execution_count": null,
   "metadata": {},
   "outputs": [],
   "source": []
  },
  {
   "cell_type": "code",
   "execution_count": null,
   "metadata": {},
   "outputs": [],
   "source": []
  },
  {
   "cell_type": "code",
   "execution_count": null,
   "metadata": {},
   "outputs": [],
   "source": []
  },
  {
   "cell_type": "code",
   "execution_count": null,
   "metadata": {},
   "outputs": [],
   "source": []
  },
  {
   "cell_type": "code",
   "execution_count": null,
   "metadata": {},
   "outputs": [],
   "source": []
  }
 ],
 "metadata": {
  "kernelspec": {
   "display_name": ".deeplearningClass",
   "language": "python",
   "name": ".deeplearningclass"
  },
  "language_info": {
   "codemirror_mode": {
    "name": "ipython",
    "version": 3
   },
   "file_extension": ".py",
   "mimetype": "text/x-python",
   "name": "python",
   "nbconvert_exporter": "python",
   "pygments_lexer": "ipython3",
   "version": "3.6.9-final"
  }
 },
 "nbformat": 4,
 "nbformat_minor": 4
}