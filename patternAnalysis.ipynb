{
 "metadata": {
  "language_info": {
   "codemirror_mode": {
    "name": "ipython",
    "version": 3
   },
   "file_extension": ".py",
   "mimetype": "text/x-python",
   "name": "python",
   "nbconvert_exporter": "python",
   "pygments_lexer": "ipython3",
   "version": "3.6.9-final"
  },
  "orig_nbformat": 2,
  "kernelspec": {
   "name": ".deeplearningclass",
   "display_name": ".deeplearningClass",
   "language": "python"
  }
 },
 "nbformat": 4,
 "nbformat_minor": 2,
 "cells": [
  {
   "cell_type": "code",
   "execution_count": 12,
   "metadata": {},
   "outputs": [],
   "source": [
    "import pandas as pd\n",
    "import openpyxl\n"
   ]
  },
  {
   "cell_type": "code",
   "execution_count": 103,
   "metadata": {},
   "outputs": [],
   "source": [
    "#(accuracy_score(y_test,y_pred), f1_score(y_test,y_pred, average='weighted'), f1_score(y_test,y_pred, average='micro'), f1_score(y_test,y_pred, average='macro'),(stop-start), (stop1-start1)\n",
    "headerList = [\"accuracy\",\"f1weighted\",\"f1micro\",\"f1macro\", \"fstime\",\"clstime\",\"dataset\",\"classfication\",\"featureSelection\"]\n",
    "df = pd.read_csv(\"modelperformance.csv\",  names=headerList)"
   ]
  },
  {
   "cell_type": "code",
   "execution_count": 54,
   "metadata": {},
   "outputs": [],
   "source": [
    "#top 1 or most frequent in top 5 \n",
    "#most frequent out of 24"
   ]
  },
  {
   "cell_type": "code",
   "execution_count": 104,
   "metadata": {},
   "outputs": [],
   "source": [
    "df['accuracy'] = df['accuracy'].str.replace(\"[\",\"\").astype(float)\n",
    "df['featureSelection'] = df['featureSelection'].str.replace(\"]\",\"\").astype(str)"
   ]
  },
  {
   "cell_type": "code",
   "execution_count": 105,
   "metadata": {},
   "outputs": [],
   "source": [
    "df1= df.groupby([\"dataset\"]).apply(lambda x: x.sort_values([\"accuracy\",\"fstime\"], ascending = [False,True])).reset_index(drop=True)"
   ]
  },
  {
   "cell_type": "code",
   "execution_count": 106,
   "metadata": {},
   "outputs": [],
   "source": [
    "df1 = df1.groupby('dataset').apply(lambda x: x.nlargest(1, 'accuracy')).reset_index(drop=True)  \n"
   ]
  },
  {
   "cell_type": "code",
   "execution_count": 107,
   "metadata": {},
   "outputs": [
    {
     "output_type": "execute_result",
     "data": {
      "text/plain": [
       "                                        dataset featureSelection\n",
       "0                           'HCV-Egy-Data2.csv'             'GR'\n",
       "1      'LasVegasTripAdvisorReviews-Dataset.csv'             'GR'\n",
       "2                'Wholesale customers data.csv'             'GR'\n",
       "3                               'bank-full.csv'             'GR'\n",
       "4                               'caesarian.csv'           'fcbf'\n",
       "5            'data_banknote_authentication.csv'             'GR'\n",
       "6                                  'glass.data'             'GR'\n",
       "7   'heart_failure_clinical_records_datase.csv'             'MI'\n",
       "8                                   'iris.data'             'GR'\n",
       "9                                   'wine.data'             'GR'"
      ],
      "text/html": "<div>\n<style scoped>\n    .dataframe tbody tr th:only-of-type {\n        vertical-align: middle;\n    }\n\n    .dataframe tbody tr th {\n        vertical-align: top;\n    }\n\n    .dataframe thead th {\n        text-align: right;\n    }\n</style>\n<table border=\"1\" class=\"dataframe\">\n  <thead>\n    <tr style=\"text-align: right;\">\n      <th></th>\n      <th>dataset</th>\n      <th>featureSelection</th>\n    </tr>\n  </thead>\n  <tbody>\n    <tr>\n      <th>0</th>\n      <td>'HCV-Egy-Data2.csv'</td>\n      <td>'GR'</td>\n    </tr>\n    <tr>\n      <th>1</th>\n      <td>'LasVegasTripAdvisorReviews-Dataset.csv'</td>\n      <td>'GR'</td>\n    </tr>\n    <tr>\n      <th>2</th>\n      <td>'Wholesale customers data.csv'</td>\n      <td>'GR'</td>\n    </tr>\n    <tr>\n      <th>3</th>\n      <td>'bank-full.csv'</td>\n      <td>'GR'</td>\n    </tr>\n    <tr>\n      <th>4</th>\n      <td>'caesarian.csv'</td>\n      <td>'fcbf'</td>\n    </tr>\n    <tr>\n      <th>5</th>\n      <td>'data_banknote_authentication.csv'</td>\n      <td>'GR'</td>\n    </tr>\n    <tr>\n      <th>6</th>\n      <td>'glass.data'</td>\n      <td>'GR'</td>\n    </tr>\n    <tr>\n      <th>7</th>\n      <td>'heart_failure_clinical_records_datase.csv'</td>\n      <td>'MI'</td>\n    </tr>\n    <tr>\n      <th>8</th>\n      <td>'iris.data'</td>\n      <td>'GR'</td>\n    </tr>\n    <tr>\n      <th>9</th>\n      <td>'wine.data'</td>\n      <td>'GR'</td>\n    </tr>\n  </tbody>\n</table>\n</div>"
     },
     "metadata": {},
     "execution_count": 107
    }
   ],
   "source": [
    "df1[['dataset','featureSelection']]"
   ]
  },
  {
   "cell_type": "code",
   "execution_count": 108,
   "metadata": {},
   "outputs": [],
   "source": [
    "df2 = df[['accuracy','dataset','featureSelection']]\n",
    "gp = df2.groupby(['dataset','featureSelection']).accuracy.agg('sum')\n",
    "result = gp.max(level=0).reset_index().merge(gp.reset_index())"
   ]
  },
  {
   "cell_type": "code",
   "execution_count": 109,
   "metadata": {},
   "outputs": [],
   "source": [
    "result1 = pd.merge(result,\n",
    "                 df1[['dataset', 'featureSelection']],\n",
    "                 on='dataset')\n"
   ]
  },
  {
   "cell_type": "code",
   "execution_count": 110,
   "metadata": {},
   "outputs": [],
   "source": [
    "result1[['dataset','featureSelection_x','featureSelection_y']].to_csv(\"rule.csv\",header=True)"
   ]
  },
  {
   "cell_type": "code",
   "execution_count": 68,
   "metadata": {},
   "outputs": [
    {
     "output_type": "execute_result",
     "data": {
      "text/plain": [
       "(12, 20)"
      ]
     },
     "metadata": {},
     "execution_count": 68
    }
   ],
   "source": []
  },
  {
   "cell_type": "code",
   "execution_count": 113,
   "metadata": {},
   "outputs": [
    {
     "output_type": "execute_result",
     "data": {
      "text/plain": [
       "                                     dataset  completeness  imbalanceRatio  \\\n",
       "0               Wholesale customers data.csv             0        0.010072   \n",
       "1                              caesarian.csv             0        0.000000   \n",
       "2                              bank-full.csv             0        0.000100   \n",
       "3           data_banknote_authentication.csv             0        0.000000   \n",
       "4  heart_failure_clinical_records_datase.csv             0        0.009207   \n",
       "\n",
       "   conciseness  syntaxAccuracy  classOverlap  outlierDetection  instances  \\\n",
       "0     0.000000        0.000000             0          0.000568        440   \n",
       "1     0.050633        0.000000             0          0.002110         79   \n",
       "2     0.000000        0.058824             0          0.000014      45211   \n",
       "3     0.017505        0.000000             0          0.002918       1371   \n",
       "4     0.000000        0.153846             0          0.001029        299   \n",
       "\n",
       "   attributes  uniqueClasses   entropy         snr       ena  symmetrical  \\\n",
       "0           8              2  0.907323   50.709980  2.444319         0.00   \n",
       "1           6              2  0.980378    1.363785  0.181460         0.00   \n",
       "2          17              2  0.520631    5.382459  0.021444         0.00   \n",
       "3           5              2  0.991232  161.964551  0.128798         0.75   \n",
       "4          13              2  0.905542    4.234218  0.059801         0.20   \n",
       "\n",
       "   modereateasymmetrical  strongasymmetric  strongPositive  positive  \\\n",
       "0               0.666667          0.333333        0.035714  0.035714   \n",
       "1               1.000000          0.000000        0.166667  0.333333   \n",
       "2               1.000000          0.000000        0.058824  0.397059   \n",
       "3               0.250000          0.000000        0.050000  0.000000   \n",
       "4               0.600000          0.200000        0.051282  0.128205   \n",
       "\n",
       "   strongNegative  negative  \n",
       "0               0  0.000000  \n",
       "1               0  0.333333  \n",
       "2               0  0.485294  \n",
       "3               0  0.000000  \n",
       "4               0  0.230769  "
      ],
      "text/html": "<div>\n<style scoped>\n    .dataframe tbody tr th:only-of-type {\n        vertical-align: middle;\n    }\n\n    .dataframe tbody tr th {\n        vertical-align: top;\n    }\n\n    .dataframe thead th {\n        text-align: right;\n    }\n</style>\n<table border=\"1\" class=\"dataframe\">\n  <thead>\n    <tr style=\"text-align: right;\">\n      <th></th>\n      <th>dataset</th>\n      <th>completeness</th>\n      <th>imbalanceRatio</th>\n      <th>conciseness</th>\n      <th>syntaxAccuracy</th>\n      <th>classOverlap</th>\n      <th>outlierDetection</th>\n      <th>instances</th>\n      <th>attributes</th>\n      <th>uniqueClasses</th>\n      <th>entropy</th>\n      <th>snr</th>\n      <th>ena</th>\n      <th>symmetrical</th>\n      <th>modereateasymmetrical</th>\n      <th>strongasymmetric</th>\n      <th>strongPositive</th>\n      <th>positive</th>\n      <th>strongNegative</th>\n      <th>negative</th>\n    </tr>\n  </thead>\n  <tbody>\n    <tr>\n      <th>0</th>\n      <td>Wholesale customers data.csv</td>\n      <td>0</td>\n      <td>0.010072</td>\n      <td>0.000000</td>\n      <td>0.000000</td>\n      <td>0</td>\n      <td>0.000568</td>\n      <td>440</td>\n      <td>8</td>\n      <td>2</td>\n      <td>0.907323</td>\n      <td>50.709980</td>\n      <td>2.444319</td>\n      <td>0.00</td>\n      <td>0.666667</td>\n      <td>0.333333</td>\n      <td>0.035714</td>\n      <td>0.035714</td>\n      <td>0</td>\n      <td>0.000000</td>\n    </tr>\n    <tr>\n      <th>1</th>\n      <td>caesarian.csv</td>\n      <td>0</td>\n      <td>0.000000</td>\n      <td>0.050633</td>\n      <td>0.000000</td>\n      <td>0</td>\n      <td>0.002110</td>\n      <td>79</td>\n      <td>6</td>\n      <td>2</td>\n      <td>0.980378</td>\n      <td>1.363785</td>\n      <td>0.181460</td>\n      <td>0.00</td>\n      <td>1.000000</td>\n      <td>0.000000</td>\n      <td>0.166667</td>\n      <td>0.333333</td>\n      <td>0</td>\n      <td>0.333333</td>\n    </tr>\n    <tr>\n      <th>2</th>\n      <td>bank-full.csv</td>\n      <td>0</td>\n      <td>0.000100</td>\n      <td>0.000000</td>\n      <td>0.058824</td>\n      <td>0</td>\n      <td>0.000014</td>\n      <td>45211</td>\n      <td>17</td>\n      <td>2</td>\n      <td>0.520631</td>\n      <td>5.382459</td>\n      <td>0.021444</td>\n      <td>0.00</td>\n      <td>1.000000</td>\n      <td>0.000000</td>\n      <td>0.058824</td>\n      <td>0.397059</td>\n      <td>0</td>\n      <td>0.485294</td>\n    </tr>\n    <tr>\n      <th>3</th>\n      <td>data_banknote_authentication.csv</td>\n      <td>0</td>\n      <td>0.000000</td>\n      <td>0.017505</td>\n      <td>0.000000</td>\n      <td>0</td>\n      <td>0.002918</td>\n      <td>1371</td>\n      <td>5</td>\n      <td>2</td>\n      <td>0.991232</td>\n      <td>161.964551</td>\n      <td>0.128798</td>\n      <td>0.75</td>\n      <td>0.250000</td>\n      <td>0.000000</td>\n      <td>0.050000</td>\n      <td>0.000000</td>\n      <td>0</td>\n      <td>0.000000</td>\n    </tr>\n    <tr>\n      <th>4</th>\n      <td>heart_failure_clinical_records_datase.csv</td>\n      <td>0</td>\n      <td>0.009207</td>\n      <td>0.000000</td>\n      <td>0.153846</td>\n      <td>0</td>\n      <td>0.001029</td>\n      <td>299</td>\n      <td>13</td>\n      <td>2</td>\n      <td>0.905542</td>\n      <td>4.234218</td>\n      <td>0.059801</td>\n      <td>0.20</td>\n      <td>0.600000</td>\n      <td>0.200000</td>\n      <td>0.051282</td>\n      <td>0.128205</td>\n      <td>0</td>\n      <td>0.230769</td>\n    </tr>\n  </tbody>\n</table>\n</div>"
     },
     "metadata": {},
     "execution_count": 113
    }
   ],
   "source": [
    "headerInfo = ['dataset','completeness','imbalanceRatio', 'conciseness', 'syntaxAccuracy','classOverlap','outlierDetection','instances','attributes','uniqueClasses', 'entropy','snr','ena','symmetrical','modereateasymmetrical','strongasymmetric',  'strongPositive', 'positive', 'strongNegative', 'negative']\n",
    "\n",
    "meta_features = pd.concat(pd.read_excel(\"metafeatures.xlsx\", sheet_name=None), axis=1, ignore_index=True)\n",
    "meta_features.columns = headerInfo\n",
    "meta_features.head()"
   ]
  },
  {
   "cell_type": "code",
   "execution_count": 118,
   "metadata": {},
   "outputs": [],
   "source": [
    "result = pd.merge(meta_features, result1)"
   ]
  },
  {
   "cell_type": "code",
   "execution_count": 119,
   "metadata": {},
   "outputs": [
    {
     "output_type": "execute_result",
     "data": {
      "text/plain": [
       "Empty DataFrame\n",
       "Columns: [dataset, completeness, imbalanceRatio, conciseness, syntaxAccuracy, classOverlap, outlierDetection, instances, attributes, uniqueClasses, entropy, snr, ena, symmetrical, modereateasymmetrical, strongasymmetric, strongPositive, positive, strongNegative, negative, accuracy, featureSelection_x, featureSelection_y]\n",
       "Index: []\n",
       "\n",
       "[0 rows x 23 columns]"
      ],
      "text/html": "<div>\n<style scoped>\n    .dataframe tbody tr th:only-of-type {\n        vertical-align: middle;\n    }\n\n    .dataframe tbody tr th {\n        vertical-align: top;\n    }\n\n    .dataframe thead th {\n        text-align: right;\n    }\n</style>\n<table border=\"1\" class=\"dataframe\">\n  <thead>\n    <tr style=\"text-align: right;\">\n      <th></th>\n      <th>dataset</th>\n      <th>completeness</th>\n      <th>imbalanceRatio</th>\n      <th>conciseness</th>\n      <th>syntaxAccuracy</th>\n      <th>classOverlap</th>\n      <th>outlierDetection</th>\n      <th>instances</th>\n      <th>attributes</th>\n      <th>uniqueClasses</th>\n      <th>...</th>\n      <th>symmetrical</th>\n      <th>modereateasymmetrical</th>\n      <th>strongasymmetric</th>\n      <th>strongPositive</th>\n      <th>positive</th>\n      <th>strongNegative</th>\n      <th>negative</th>\n      <th>accuracy</th>\n      <th>featureSelection_x</th>\n      <th>featureSelection_y</th>\n    </tr>\n  </thead>\n  <tbody>\n  </tbody>\n</table>\n<p>0 rows × 23 columns</p>\n</div>"
     },
     "metadata": {},
     "execution_count": 119
    }
   ],
   "source": [
    "result.head()"
   ]
  },
  {
   "cell_type": "code",
   "execution_count": 111,
   "metadata": {},
   "outputs": [],
   "source": [
    "result1[\"dataset\"] = [x.replace(\"'\",\"\") for x in result1[\"dataset\"]]\n",
    "result1[\"featureSelection_x\"] = [x.replace(\"'\",\"\") for x in result1[\"featureSelection_x\"]]\n",
    "result1[\"featureSelection_y\"] = [x.replace(\"'\",\"\") for x in result1[\"featureSelection_y\"]]"
   ]
  },
  {
   "cell_type": "code",
   "execution_count": 116,
   "metadata": {},
   "outputs": [
    {
     "output_type": "execute_result",
     "data": {
      "text/plain": [
       "0                             HCV-Egy-Data2.csv\n",
       "1        LasVegasTripAdvisorReviews-Dataset.csv\n",
       "2                  Wholesale customers data.csv\n",
       "3                                 bank-full.csv\n",
       "4                                 caesarian.csv\n",
       "5              data_banknote_authentication.csv\n",
       "6                                    glass.data\n",
       "7     heart_failure_clinical_records_datase.csv\n",
       "8                                     iris.data\n",
       "9                                     wine.data\n",
       "Name: dataset, dtype: object"
      ]
     },
     "metadata": {},
     "execution_count": 116
    }
   ],
   "source": [
    "result1[\"dataset\"] "
   ]
  },
  {
   "cell_type": "code",
   "execution_count": 117,
   "metadata": {},
   "outputs": [
    {
     "output_type": "execute_result",
     "data": {
      "text/plain": [
       "0                  Wholesale customers data.csv\n",
       "1                                 caesarian.csv\n",
       "2                                 bank-full.csv\n",
       "3              data_banknote_authentication.csv\n",
       "4     heart_failure_clinical_records_datase.csv\n",
       "5                                     wine.data\n",
       "6                             HCV-Egy-Data2.csv\n",
       "7        LasVegasTripAdvisorReviews-Dataset.csv\n",
       "8                                     iris.data\n",
       "9                                    glass.data\n",
       "10                                    test1.csv\n",
       "11                                    test2.csv\n",
       "Name: dataset, dtype: object"
      ]
     },
     "metadata": {},
     "execution_count": 117
    }
   ],
   "source": [
    "meta_features['dataset']"
   ]
  },
  {
   "cell_type": "code",
   "execution_count": null,
   "metadata": {},
   "outputs": [],
   "source": []
  }
 ]
}